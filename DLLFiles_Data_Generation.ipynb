{
 "cells": [
  {
   "cell_type": "code",
   "execution_count": 1,
   "metadata": {
    "collapsed": true
   },
   "outputs": [],
   "source": [
    "import pefile\n",
    "import glob\n",
    "import csv\n",
    "import os\n",
    "import numpy as np\n",
    "import pandas as pd"
   ]
  },
  {
   "cell_type": "code",
   "execution_count": 2,
   "metadata": {
    "collapsed": true
   },
   "outputs": [],
   "source": [
    "function= pd.read_csv(\"/home/naresh/Downloads/Project/Project/DLLcalls_list.csv\")"
   ]
  },
  {
   "cell_type": "code",
   "execution_count": 3,
   "metadata": {
    "collapsed": false
   },
   "outputs": [
    {
     "data": {
      "text/html": [
       "<div>\n",
       "<table border=\"1\" class=\"dataframe\">\n",
       "  <thead>\n",
       "    <tr style=\"text-align: right;\">\n",
       "      <th></th>\n",
       "      <th>Unnamed: 0</th>\n",
       "      <th>0</th>\n",
       "    </tr>\n",
       "  </thead>\n",
       "  <tbody>\n",
       "    <tr>\n",
       "      <th>0</th>\n",
       "      <td>0</td>\n",
       "      <td>audioeng.dll</td>\n",
       "    </tr>\n",
       "    <tr>\n",
       "      <th>1</th>\n",
       "      <td>1</td>\n",
       "      <td>UFAT.dll</td>\n",
       "    </tr>\n",
       "    <tr>\n",
       "      <th>2</th>\n",
       "      <td>2</td>\n",
       "      <td>AdobeLinguistic.dll</td>\n",
       "    </tr>\n",
       "    <tr>\n",
       "      <th>3</th>\n",
       "      <td>3</td>\n",
       "      <td>TextInputFramework.dll</td>\n",
       "    </tr>\n",
       "    <tr>\n",
       "      <th>4</th>\n",
       "      <td>4</td>\n",
       "      <td>api-ms-win-shcore-obsolete-l1-1-0.dll</td>\n",
       "    </tr>\n",
       "  </tbody>\n",
       "</table>\n",
       "</div>"
      ],
      "text/plain": [
       "   Unnamed: 0                                      0\n",
       "0           0                           audioeng.dll\n",
       "1           1                               UFAT.dll\n",
       "2           2                    AdobeLinguistic.dll\n",
       "3           3                 TextInputFramework.dll\n",
       "4           4  api-ms-win-shcore-obsolete-l1-1-0.dll"
      ]
     },
     "execution_count": 3,
     "metadata": {},
     "output_type": "execute_result"
    }
   ],
   "source": [
    "function.head()"
   ]
  },
  {
   "cell_type": "code",
   "execution_count": 4,
   "metadata": {
    "collapsed": true
   },
   "outputs": [],
   "source": [
    "function=function.drop(['Unnamed: 0'],axis=1)"
   ]
  },
  {
   "cell_type": "code",
   "execution_count": 5,
   "metadata": {
    "collapsed": true
   },
   "outputs": [],
   "source": [
    "function.columns=[\"DLL\"]"
   ]
  },
  {
   "cell_type": "code",
   "execution_count": 6,
   "metadata": {
    "collapsed": false
   },
   "outputs": [
    {
     "data": {
      "text/html": [
       "<div>\n",
       "<table border=\"1\" class=\"dataframe\">\n",
       "  <thead>\n",
       "    <tr style=\"text-align: right;\">\n",
       "      <th></th>\n",
       "      <th>DLL</th>\n",
       "    </tr>\n",
       "  </thead>\n",
       "  <tbody>\n",
       "    <tr>\n",
       "      <th>0</th>\n",
       "      <td>audioeng.dll</td>\n",
       "    </tr>\n",
       "    <tr>\n",
       "      <th>1</th>\n",
       "      <td>UFAT.dll</td>\n",
       "    </tr>\n",
       "    <tr>\n",
       "      <th>2</th>\n",
       "      <td>AdobeLinguistic.dll</td>\n",
       "    </tr>\n",
       "    <tr>\n",
       "      <th>3</th>\n",
       "      <td>TextInputFramework.dll</td>\n",
       "    </tr>\n",
       "    <tr>\n",
       "      <th>4</th>\n",
       "      <td>api-ms-win-shcore-obsolete-l1-1-0.dll</td>\n",
       "    </tr>\n",
       "  </tbody>\n",
       "</table>\n",
       "</div>"
      ],
      "text/plain": [
       "                                     DLL\n",
       "0                           audioeng.dll\n",
       "1                               UFAT.dll\n",
       "2                    AdobeLinguistic.dll\n",
       "3                 TextInputFramework.dll\n",
       "4  api-ms-win-shcore-obsolete-l1-1-0.dll"
      ]
     },
     "execution_count": 6,
     "metadata": {},
     "output_type": "execute_result"
    }
   ],
   "source": [
    "function.head()"
   ]
  },
  {
   "cell_type": "code",
   "execution_count": 7,
   "metadata": {
    "collapsed": true
   },
   "outputs": [],
   "source": [
    "datalist=function['DLL'].tolist()"
   ]
  },
  {
   "cell_type": "code",
   "execution_count": 8,
   "metadata": {
    "collapsed": true
   },
   "outputs": [],
   "source": [
    "datalist=['FileName']+['Malicious']+datalist"
   ]
  },
  {
   "cell_type": "code",
   "execution_count": 9,
   "metadata": {
    "collapsed": true
   },
   "outputs": [],
   "source": [
    "function=pd.DataFrame(0,index=[0],columns=datalist)"
   ]
  },
  {
   "cell_type": "code",
   "execution_count": 10,
   "metadata": {
    "collapsed": false
   },
   "outputs": [
    {
     "data": {
      "text/html": [
       "<div>\n",
       "<table border=\"1\" class=\"dataframe\">\n",
       "  <thead>\n",
       "    <tr style=\"text-align: right;\">\n",
       "      <th></th>\n",
       "      <th>FileName</th>\n",
       "      <th>Malicious</th>\n",
       "      <th>audioeng.dll</th>\n",
       "      <th>UFAT.dll</th>\n",
       "      <th>AdobeLinguistic.dll</th>\n",
       "      <th>TextInputFramework.dll</th>\n",
       "      <th>api-ms-win-shcore-obsolete-l1-1-0.dll</th>\n",
       "      <th>api-ms-win-rtcore-ntuser-wmpointer-l1-1-3.dll</th>\n",
       "      <th>Wcmsvc.dll</th>\n",
       "      <th>QUARTZ.dll</th>\n",
       "      <th>...</th>\n",
       "      <th>api-ms-win-core-errorhandling-l1-1-1.dll</th>\n",
       "      <th>SensApi.dll</th>\n",
       "      <th>MSVCR71.dll</th>\n",
       "      <th>api-ms-win-core-path-l1-1-0.dll</th>\n",
       "      <th>BASESRV.dll</th>\n",
       "      <th>netprovfw.dll</th>\n",
       "      <th>P2P.dll</th>\n",
       "      <th>DWrite.dll</th>\n",
       "      <th>aeinv.dll</th>\n",
       "      <th>esscli.dll</th>\n",
       "    </tr>\n",
       "  </thead>\n",
       "  <tbody>\n",
       "    <tr>\n",
       "      <th>0</th>\n",
       "      <td>0</td>\n",
       "      <td>0</td>\n",
       "      <td>0</td>\n",
       "      <td>0</td>\n",
       "      <td>0</td>\n",
       "      <td>0</td>\n",
       "      <td>0</td>\n",
       "      <td>0</td>\n",
       "      <td>0</td>\n",
       "      <td>0</td>\n",
       "      <td>...</td>\n",
       "      <td>0</td>\n",
       "      <td>0</td>\n",
       "      <td>0</td>\n",
       "      <td>0</td>\n",
       "      <td>0</td>\n",
       "      <td>0</td>\n",
       "      <td>0</td>\n",
       "      <td>0</td>\n",
       "      <td>0</td>\n",
       "      <td>0</td>\n",
       "    </tr>\n",
       "  </tbody>\n",
       "</table>\n",
       "<p>1 rows × 1018 columns</p>\n",
       "</div>"
      ],
      "text/plain": [
       "   FileName  Malicious  audioeng.dll  UFAT.dll  AdobeLinguistic.dll  \\\n",
       "0         0          0             0         0                    0   \n",
       "\n",
       "   TextInputFramework.dll  api-ms-win-shcore-obsolete-l1-1-0.dll  \\\n",
       "0                       0                                      0   \n",
       "\n",
       "   api-ms-win-rtcore-ntuser-wmpointer-l1-1-3.dll  Wcmsvc.dll  QUARTZ.dll  \\\n",
       "0                                              0           0           0   \n",
       "\n",
       "      ...      api-ms-win-core-errorhandling-l1-1-1.dll  SensApi.dll  \\\n",
       "0     ...                                             0            0   \n",
       "\n",
       "   MSVCR71.dll  api-ms-win-core-path-l1-1-0.dll  BASESRV.dll  netprovfw.dll  \\\n",
       "0            0                                0            0              0   \n",
       "\n",
       "   P2P.dll  DWrite.dll  aeinv.dll  esscli.dll  \n",
       "0        0           0          0           0  \n",
       "\n",
       "[1 rows x 1018 columns]"
      ]
     },
     "execution_count": 10,
     "metadata": {},
     "output_type": "execute_result"
    }
   ],
   "source": [
    "function.head()"
   ]
  },
  {
   "cell_type": "code",
   "execution_count": 11,
   "metadata": {
    "collapsed": true
   },
   "outputs": [],
   "source": [
    "function=function.drop(function.index[[0]])"
   ]
  },
  {
   "cell_type": "code",
   "execution_count": 12,
   "metadata": {
    "collapsed": false
   },
   "outputs": [
    {
     "data": {
      "text/html": [
       "<div>\n",
       "<table border=\"1\" class=\"dataframe\">\n",
       "  <thead>\n",
       "    <tr style=\"text-align: right;\">\n",
       "      <th></th>\n",
       "      <th>FileName</th>\n",
       "      <th>Malicious</th>\n",
       "      <th>audioeng.dll</th>\n",
       "      <th>UFAT.dll</th>\n",
       "      <th>AdobeLinguistic.dll</th>\n",
       "      <th>TextInputFramework.dll</th>\n",
       "      <th>api-ms-win-shcore-obsolete-l1-1-0.dll</th>\n",
       "      <th>api-ms-win-rtcore-ntuser-wmpointer-l1-1-3.dll</th>\n",
       "      <th>Wcmsvc.dll</th>\n",
       "      <th>QUARTZ.dll</th>\n",
       "      <th>...</th>\n",
       "      <th>api-ms-win-core-errorhandling-l1-1-1.dll</th>\n",
       "      <th>SensApi.dll</th>\n",
       "      <th>MSVCR71.dll</th>\n",
       "      <th>api-ms-win-core-path-l1-1-0.dll</th>\n",
       "      <th>BASESRV.dll</th>\n",
       "      <th>netprovfw.dll</th>\n",
       "      <th>P2P.dll</th>\n",
       "      <th>DWrite.dll</th>\n",
       "      <th>aeinv.dll</th>\n",
       "      <th>esscli.dll</th>\n",
       "    </tr>\n",
       "  </thead>\n",
       "  <tbody>\n",
       "  </tbody>\n",
       "</table>\n",
       "<p>0 rows × 1018 columns</p>\n",
       "</div>"
      ],
      "text/plain": [
       "Empty DataFrame\n",
       "Columns: [FileName, Malicious, audioeng.dll, UFAT.dll, AdobeLinguistic.dll, TextInputFramework.dll, api-ms-win-shcore-obsolete-l1-1-0.dll, api-ms-win-rtcore-ntuser-wmpointer-l1-1-3.dll, Wcmsvc.dll, QUARTZ.dll, CSRSRV.dll, api-ms-win-shlwapi-winrt-storage-l1-1-1.dll, ext-ms-win-ntuser-window-l1-1-1.dll, WsmSvc.DLL, api-ms-win-security-capability-l1-1-0.dll, DDRAW.dll, api-ms-win-core-namedpipe-l1-2-2.dll, api-ms-win-core-job-l2-1-0.dll, api-ms-win-service-core-l1-1-1.dll, api-ms-win-perf-legacy-l1-1-0.dll, api-ms-win-core-sysinfo-l1-2-1.dll, api-ms-win-core-perfcounters-l1-1-0.dll, CLIPC.dll, SCNPST64C.dll, api-ms-win-gdi-dpiinfo-l1-1-0.dll, BiWinrt.dll, MSVCR90.dll, WININET.DLL, AUTHZ.dll, CFGMGR32.dll, api-ms-win-power-setting-l1-1-0.dll, iertutil.dll, Windows.Networking.Connectivity.dll, MSVCP90.dll, MSDTCTM.dll, api-ms-win-mm-playsound-l1-1-0.dll, SYSSETUP.dll, WINBRAND.dll, ext-ms-win-ntuser-windowclass-l1-1-2.dll, api-ms-win-core-processthreads-l1-1-2.dll, api-ms-win-core-processtopology-obsolete-l1-1-0.dll, boost_system.dll, api-ms-win-core-kernel32-legacy-l1-1-5.dll, cmutil.dll, MSACM32.dll, RADCUI.dll, bthprops.cpl, api-ms-win-core-sysinfo-l2-1-0.dll, msdrm.dll, framedynos.dll, api-ms-win-security-base-l1-2-0.dll, api-ms-win-core-privateprofile-l1-1-1.dll, api-ms-win-service-private-l1-1-1.dll, COMCTL32.DLL, d3d10_1.dll, DEVRTL.dll, api-ms-win-core-processenvironment-l1-1-0.dll, api-ms-win-core-file-l2-1-2.dll, api-ms-win-core-shutdown-l1-1-1.dll, EFSADU.dll, GetUName.dll, comdlg32.dll, AgentModule.dll, DCIMAN32.dll, api-ms-win-core-handle-l1-1-0.dll, api-ms-win-eventing-provider-l1-1-0.dll, api-ms-win-mm-time-l1-1-0.dll, SYNCUTIL.dll, api-ms-win-core-crt-l1-1-0.dll, api-ms-win-core-sidebyside-l1-1-0.dll, WclEtw.dll, api-ms-win-eventing-classicprovider-l1-1-0.dll, MapsStore.dll, SHDOCVW.dll, api-ms-win-core-psm-info-l1-1-1.dll, msdmo.dll, RtmPal.dll, d2d1.dll, TWINAPI.dll, LicenseManager.dll, BatMeter.dll, winipcfile.dll, xpsservices.dll, api-ms-win-service-private-l1-1-2.dll, prvdmofcomp.dll, FVESKYBACKUP.dll, api-ms-win-core-namedpipe-l1-2-0.dll, wcl.dll, version.dll, certca.dll, ncsi.dll, api-ms-win-core-quirks-l1-1-1.dll, CoreMessaging.dll, api-ms-win-core-com-midlproxystub-l1-1-0.dll, dbghelp.dll, api-ms-win-core-localization-l1-2-1.dll, api-ms-win-core-windowserrorreporting-l1-1-0.dll, api-ms-win-core-processenvironment-l1-2-0.dll, api-ms-win-rtcore-ntuser-synch-l1-1-0.dll, api-ms-win-core-namedpipe-l1-1-0.dll, ...]\n",
       "Index: []\n",
       "\n",
       "[0 rows x 1018 columns]"
      ]
     },
     "execution_count": 12,
     "metadata": {},
     "output_type": "execute_result"
    }
   ],
   "source": [
    "function.head()"
   ]
  },
  {
   "cell_type": "code",
   "execution_count": 14,
   "metadata": {
    "collapsed": true
   },
   "outputs": [],
   "source": [
    "function['FileName']=function.FileName.astype(object)"
   ]
  },
  {
   "cell_type": "code",
   "execution_count": 13,
   "metadata": {
    "collapsed": true
   },
   "outputs": [],
   "source": [
    "g=glob.glob(\"/home/naresh/Downloads/Project/Virus.Win/*\");"
   ]
  },
  {
   "cell_type": "code",
   "execution_count": 15,
   "metadata": {
    "collapsed": true
   },
   "outputs": [],
   "source": [
    "for files in g:\n",
    "    try:\n",
    "        pe=pefile.PE(files)\n",
    "        toadd=pd.DataFrame(0,index=[0],columns=datalist)\n",
    "        toadd['FileName']=toadd.FileName.astype(object)\n",
    "        toadd.set_value(0,'FileName',files)\n",
    "        toadd.set_value(0,'Malicious',1)\n",
    "        for entry in pe.DIRECTORY_ENTRY_IMPORT:\n",
    "            if entry.dll.decode('ASCII') in toadd.columns:\n",
    "                toadd.set_value(0,entry.dll.decode('ASCII'),1)    \n",
    "        function=function.append(toadd)\n",
    "    except:\n",
    "        pass"
   ]
  },
  {
   "cell_type": "code",
   "execution_count": 16,
   "metadata": {
    "collapsed": false
   },
   "outputs": [
    {
     "data": {
      "text/html": [
       "<div>\n",
       "<table border=\"1\" class=\"dataframe\">\n",
       "  <thead>\n",
       "    <tr style=\"text-align: right;\">\n",
       "      <th></th>\n",
       "      <th>FileName</th>\n",
       "      <th>Malicious</th>\n",
       "      <th>audioeng.dll</th>\n",
       "      <th>UFAT.dll</th>\n",
       "      <th>AdobeLinguistic.dll</th>\n",
       "      <th>TextInputFramework.dll</th>\n",
       "      <th>api-ms-win-shcore-obsolete-l1-1-0.dll</th>\n",
       "      <th>api-ms-win-rtcore-ntuser-wmpointer-l1-1-3.dll</th>\n",
       "      <th>Wcmsvc.dll</th>\n",
       "      <th>QUARTZ.dll</th>\n",
       "      <th>...</th>\n",
       "      <th>api-ms-win-core-errorhandling-l1-1-1.dll</th>\n",
       "      <th>SensApi.dll</th>\n",
       "      <th>MSVCR71.dll</th>\n",
       "      <th>api-ms-win-core-path-l1-1-0.dll</th>\n",
       "      <th>BASESRV.dll</th>\n",
       "      <th>netprovfw.dll</th>\n",
       "      <th>P2P.dll</th>\n",
       "      <th>DWrite.dll</th>\n",
       "      <th>aeinv.dll</th>\n",
       "      <th>esscli.dll</th>\n",
       "    </tr>\n",
       "  </thead>\n",
       "  <tbody>\n",
       "    <tr>\n",
       "      <th>0</th>\n",
       "      <td>/home/naresh/Downloads/Project/Virus.Win/Virus...</td>\n",
       "      <td>1</td>\n",
       "      <td>0</td>\n",
       "      <td>0</td>\n",
       "      <td>0</td>\n",
       "      <td>0</td>\n",
       "      <td>0</td>\n",
       "      <td>0</td>\n",
       "      <td>0</td>\n",
       "      <td>0</td>\n",
       "      <td>...</td>\n",
       "      <td>0</td>\n",
       "      <td>0</td>\n",
       "      <td>0</td>\n",
       "      <td>0</td>\n",
       "      <td>0</td>\n",
       "      <td>0</td>\n",
       "      <td>0</td>\n",
       "      <td>0</td>\n",
       "      <td>0</td>\n",
       "      <td>0</td>\n",
       "    </tr>\n",
       "    <tr>\n",
       "      <th>0</th>\n",
       "      <td>/home/naresh/Downloads/Project/Virus.Win/Virus...</td>\n",
       "      <td>1</td>\n",
       "      <td>0</td>\n",
       "      <td>0</td>\n",
       "      <td>0</td>\n",
       "      <td>0</td>\n",
       "      <td>0</td>\n",
       "      <td>0</td>\n",
       "      <td>0</td>\n",
       "      <td>0</td>\n",
       "      <td>...</td>\n",
       "      <td>0</td>\n",
       "      <td>0</td>\n",
       "      <td>0</td>\n",
       "      <td>0</td>\n",
       "      <td>0</td>\n",
       "      <td>0</td>\n",
       "      <td>0</td>\n",
       "      <td>0</td>\n",
       "      <td>0</td>\n",
       "      <td>0</td>\n",
       "    </tr>\n",
       "    <tr>\n",
       "      <th>0</th>\n",
       "      <td>/home/naresh/Downloads/Project/Virus.Win/Virus...</td>\n",
       "      <td>1</td>\n",
       "      <td>0</td>\n",
       "      <td>0</td>\n",
       "      <td>0</td>\n",
       "      <td>0</td>\n",
       "      <td>0</td>\n",
       "      <td>0</td>\n",
       "      <td>0</td>\n",
       "      <td>0</td>\n",
       "      <td>...</td>\n",
       "      <td>0</td>\n",
       "      <td>0</td>\n",
       "      <td>0</td>\n",
       "      <td>0</td>\n",
       "      <td>0</td>\n",
       "      <td>0</td>\n",
       "      <td>0</td>\n",
       "      <td>0</td>\n",
       "      <td>0</td>\n",
       "      <td>0</td>\n",
       "    </tr>\n",
       "    <tr>\n",
       "      <th>0</th>\n",
       "      <td>/home/naresh/Downloads/Project/Virus.Win/Virus...</td>\n",
       "      <td>1</td>\n",
       "      <td>0</td>\n",
       "      <td>0</td>\n",
       "      <td>0</td>\n",
       "      <td>0</td>\n",
       "      <td>0</td>\n",
       "      <td>0</td>\n",
       "      <td>0</td>\n",
       "      <td>0</td>\n",
       "      <td>...</td>\n",
       "      <td>0</td>\n",
       "      <td>0</td>\n",
       "      <td>0</td>\n",
       "      <td>0</td>\n",
       "      <td>0</td>\n",
       "      <td>0</td>\n",
       "      <td>0</td>\n",
       "      <td>0</td>\n",
       "      <td>0</td>\n",
       "      <td>0</td>\n",
       "    </tr>\n",
       "    <tr>\n",
       "      <th>0</th>\n",
       "      <td>/home/naresh/Downloads/Project/Virus.Win/Virus...</td>\n",
       "      <td>1</td>\n",
       "      <td>0</td>\n",
       "      <td>0</td>\n",
       "      <td>0</td>\n",
       "      <td>0</td>\n",
       "      <td>0</td>\n",
       "      <td>0</td>\n",
       "      <td>0</td>\n",
       "      <td>0</td>\n",
       "      <td>...</td>\n",
       "      <td>0</td>\n",
       "      <td>0</td>\n",
       "      <td>0</td>\n",
       "      <td>0</td>\n",
       "      <td>0</td>\n",
       "      <td>0</td>\n",
       "      <td>0</td>\n",
       "      <td>0</td>\n",
       "      <td>0</td>\n",
       "      <td>0</td>\n",
       "    </tr>\n",
       "  </tbody>\n",
       "</table>\n",
       "<p>5 rows × 1018 columns</p>\n",
       "</div>"
      ],
      "text/plain": [
       "                                            FileName  Malicious  audioeng.dll  \\\n",
       "0  /home/naresh/Downloads/Project/Virus.Win/Virus...          1             0   \n",
       "0  /home/naresh/Downloads/Project/Virus.Win/Virus...          1             0   \n",
       "0  /home/naresh/Downloads/Project/Virus.Win/Virus...          1             0   \n",
       "0  /home/naresh/Downloads/Project/Virus.Win/Virus...          1             0   \n",
       "0  /home/naresh/Downloads/Project/Virus.Win/Virus...          1             0   \n",
       "\n",
       "   UFAT.dll  AdobeLinguistic.dll  TextInputFramework.dll  \\\n",
       "0         0                    0                       0   \n",
       "0         0                    0                       0   \n",
       "0         0                    0                       0   \n",
       "0         0                    0                       0   \n",
       "0         0                    0                       0   \n",
       "\n",
       "   api-ms-win-shcore-obsolete-l1-1-0.dll  \\\n",
       "0                                      0   \n",
       "0                                      0   \n",
       "0                                      0   \n",
       "0                                      0   \n",
       "0                                      0   \n",
       "\n",
       "   api-ms-win-rtcore-ntuser-wmpointer-l1-1-3.dll  Wcmsvc.dll  QUARTZ.dll  \\\n",
       "0                                              0           0           0   \n",
       "0                                              0           0           0   \n",
       "0                                              0           0           0   \n",
       "0                                              0           0           0   \n",
       "0                                              0           0           0   \n",
       "\n",
       "      ...      api-ms-win-core-errorhandling-l1-1-1.dll  SensApi.dll  \\\n",
       "0     ...                                             0            0   \n",
       "0     ...                                             0            0   \n",
       "0     ...                                             0            0   \n",
       "0     ...                                             0            0   \n",
       "0     ...                                             0            0   \n",
       "\n",
       "   MSVCR71.dll  api-ms-win-core-path-l1-1-0.dll  BASESRV.dll  netprovfw.dll  \\\n",
       "0            0                                0            0              0   \n",
       "0            0                                0            0              0   \n",
       "0            0                                0            0              0   \n",
       "0            0                                0            0              0   \n",
       "0            0                                0            0              0   \n",
       "\n",
       "   P2P.dll  DWrite.dll  aeinv.dll  esscli.dll  \n",
       "0        0           0          0           0  \n",
       "0        0           0          0           0  \n",
       "0        0           0          0           0  \n",
       "0        0           0          0           0  \n",
       "0        0           0          0           0  \n",
       "\n",
       "[5 rows x 1018 columns]"
      ]
     },
     "execution_count": 16,
     "metadata": {},
     "output_type": "execute_result"
    }
   ],
   "source": [
    "function.head()"
   ]
  },
  {
   "cell_type": "code",
   "execution_count": 17,
   "metadata": {
    "collapsed": false
   },
   "outputs": [
    {
     "name": "stdout",
     "output_type": "stream",
     "text": [
      "<class 'pandas.core.frame.DataFrame'>\n",
      "Int64Index: 2851 entries, 0 to 0\n",
      "Columns: 1018 entries, FileName to esscli.dll\n",
      "dtypes: int64(1017), object(1)\n",
      "memory usage: 22.2+ MB\n"
     ]
    }
   ],
   "source": [
    "function.info()"
   ]
  },
  {
   "cell_type": "code",
   "execution_count": 18,
   "metadata": {
    "collapsed": true
   },
   "outputs": [],
   "source": [
    "g=glob.glob(\"/home/naresh/Downloads/Project/Benign/*\");"
   ]
  },
  {
   "cell_type": "code",
   "execution_count": 19,
   "metadata": {
    "collapsed": true
   },
   "outputs": [],
   "source": [
    "for files in g:\n",
    "    try:\n",
    "        pe=pefile.PE(files)\n",
    "        toadd=pd.DataFrame(0,index=[0],columns=datalist)\n",
    "        toadd['FileName']=toadd.FileName.astype(object)\n",
    "        toadd.set_value(0,'FileName',files)\n",
    "        toadd.set_value(0,'Malicious',0)\n",
    "        for entry in pe.DIRECTORY_ENTRY_IMPORT:\n",
    "            if entry.dll.decode('ASCII') in toadd.columns:\n",
    "                toadd.set_value(0,entry.dll.decode('ASCII'),1)    \n",
    "        function=function.append(toadd)\n",
    "    except:\n",
    "        pass"
   ]
  },
  {
   "cell_type": "code",
   "execution_count": 20,
   "metadata": {
    "collapsed": false
   },
   "outputs": [
    {
     "name": "stdout",
     "output_type": "stream",
     "text": [
      "<class 'pandas.core.frame.DataFrame'>\n",
      "Int64Index: 5981 entries, 0 to 0\n",
      "Columns: 1018 entries, FileName to esscli.dll\n",
      "dtypes: int64(1017), object(1)\n",
      "memory usage: 46.5+ MB\n"
     ]
    }
   ],
   "source": [
    "function.info()"
   ]
  },
  {
   "cell_type": "code",
   "execution_count": 21,
   "metadata": {
    "collapsed": false
   },
   "outputs": [
    {
     "data": {
      "text/html": [
       "<div>\n",
       "<table border=\"1\" class=\"dataframe\">\n",
       "  <thead>\n",
       "    <tr style=\"text-align: right;\">\n",
       "      <th></th>\n",
       "      <th>FileName</th>\n",
       "      <th>Malicious</th>\n",
       "      <th>audioeng.dll</th>\n",
       "      <th>UFAT.dll</th>\n",
       "      <th>AdobeLinguistic.dll</th>\n",
       "      <th>TextInputFramework.dll</th>\n",
       "      <th>api-ms-win-shcore-obsolete-l1-1-0.dll</th>\n",
       "      <th>api-ms-win-rtcore-ntuser-wmpointer-l1-1-3.dll</th>\n",
       "      <th>Wcmsvc.dll</th>\n",
       "      <th>QUARTZ.dll</th>\n",
       "      <th>...</th>\n",
       "      <th>api-ms-win-core-errorhandling-l1-1-1.dll</th>\n",
       "      <th>SensApi.dll</th>\n",
       "      <th>MSVCR71.dll</th>\n",
       "      <th>api-ms-win-core-path-l1-1-0.dll</th>\n",
       "      <th>BASESRV.dll</th>\n",
       "      <th>netprovfw.dll</th>\n",
       "      <th>P2P.dll</th>\n",
       "      <th>DWrite.dll</th>\n",
       "      <th>aeinv.dll</th>\n",
       "      <th>esscli.dll</th>\n",
       "    </tr>\n",
       "  </thead>\n",
       "  <tbody>\n",
       "    <tr>\n",
       "      <th>0</th>\n",
       "      <td>/home/naresh/Downloads/Project/Virus.Win/Virus...</td>\n",
       "      <td>1</td>\n",
       "      <td>0</td>\n",
       "      <td>0</td>\n",
       "      <td>0</td>\n",
       "      <td>0</td>\n",
       "      <td>0</td>\n",
       "      <td>0</td>\n",
       "      <td>0</td>\n",
       "      <td>0</td>\n",
       "      <td>...</td>\n",
       "      <td>0</td>\n",
       "      <td>0</td>\n",
       "      <td>0</td>\n",
       "      <td>0</td>\n",
       "      <td>0</td>\n",
       "      <td>0</td>\n",
       "      <td>0</td>\n",
       "      <td>0</td>\n",
       "      <td>0</td>\n",
       "      <td>0</td>\n",
       "    </tr>\n",
       "    <tr>\n",
       "      <th>0</th>\n",
       "      <td>/home/naresh/Downloads/Project/Virus.Win/Virus...</td>\n",
       "      <td>1</td>\n",
       "      <td>0</td>\n",
       "      <td>0</td>\n",
       "      <td>0</td>\n",
       "      <td>0</td>\n",
       "      <td>0</td>\n",
       "      <td>0</td>\n",
       "      <td>0</td>\n",
       "      <td>0</td>\n",
       "      <td>...</td>\n",
       "      <td>0</td>\n",
       "      <td>0</td>\n",
       "      <td>0</td>\n",
       "      <td>0</td>\n",
       "      <td>0</td>\n",
       "      <td>0</td>\n",
       "      <td>0</td>\n",
       "      <td>0</td>\n",
       "      <td>0</td>\n",
       "      <td>0</td>\n",
       "    </tr>\n",
       "    <tr>\n",
       "      <th>0</th>\n",
       "      <td>/home/naresh/Downloads/Project/Virus.Win/Virus...</td>\n",
       "      <td>1</td>\n",
       "      <td>0</td>\n",
       "      <td>0</td>\n",
       "      <td>0</td>\n",
       "      <td>0</td>\n",
       "      <td>0</td>\n",
       "      <td>0</td>\n",
       "      <td>0</td>\n",
       "      <td>0</td>\n",
       "      <td>...</td>\n",
       "      <td>0</td>\n",
       "      <td>0</td>\n",
       "      <td>0</td>\n",
       "      <td>0</td>\n",
       "      <td>0</td>\n",
       "      <td>0</td>\n",
       "      <td>0</td>\n",
       "      <td>0</td>\n",
       "      <td>0</td>\n",
       "      <td>0</td>\n",
       "    </tr>\n",
       "    <tr>\n",
       "      <th>0</th>\n",
       "      <td>/home/naresh/Downloads/Project/Virus.Win/Virus...</td>\n",
       "      <td>1</td>\n",
       "      <td>0</td>\n",
       "      <td>0</td>\n",
       "      <td>0</td>\n",
       "      <td>0</td>\n",
       "      <td>0</td>\n",
       "      <td>0</td>\n",
       "      <td>0</td>\n",
       "      <td>0</td>\n",
       "      <td>...</td>\n",
       "      <td>0</td>\n",
       "      <td>0</td>\n",
       "      <td>0</td>\n",
       "      <td>0</td>\n",
       "      <td>0</td>\n",
       "      <td>0</td>\n",
       "      <td>0</td>\n",
       "      <td>0</td>\n",
       "      <td>0</td>\n",
       "      <td>0</td>\n",
       "    </tr>\n",
       "    <tr>\n",
       "      <th>0</th>\n",
       "      <td>/home/naresh/Downloads/Project/Virus.Win/Virus...</td>\n",
       "      <td>1</td>\n",
       "      <td>0</td>\n",
       "      <td>0</td>\n",
       "      <td>0</td>\n",
       "      <td>0</td>\n",
       "      <td>0</td>\n",
       "      <td>0</td>\n",
       "      <td>0</td>\n",
       "      <td>0</td>\n",
       "      <td>...</td>\n",
       "      <td>0</td>\n",
       "      <td>0</td>\n",
       "      <td>0</td>\n",
       "      <td>0</td>\n",
       "      <td>0</td>\n",
       "      <td>0</td>\n",
       "      <td>0</td>\n",
       "      <td>0</td>\n",
       "      <td>0</td>\n",
       "      <td>0</td>\n",
       "    </tr>\n",
       "  </tbody>\n",
       "</table>\n",
       "<p>5 rows × 1018 columns</p>\n",
       "</div>"
      ],
      "text/plain": [
       "                                            FileName  Malicious  audioeng.dll  \\\n",
       "0  /home/naresh/Downloads/Project/Virus.Win/Virus...          1             0   \n",
       "0  /home/naresh/Downloads/Project/Virus.Win/Virus...          1             0   \n",
       "0  /home/naresh/Downloads/Project/Virus.Win/Virus...          1             0   \n",
       "0  /home/naresh/Downloads/Project/Virus.Win/Virus...          1             0   \n",
       "0  /home/naresh/Downloads/Project/Virus.Win/Virus...          1             0   \n",
       "\n",
       "   UFAT.dll  AdobeLinguistic.dll  TextInputFramework.dll  \\\n",
       "0         0                    0                       0   \n",
       "0         0                    0                       0   \n",
       "0         0                    0                       0   \n",
       "0         0                    0                       0   \n",
       "0         0                    0                       0   \n",
       "\n",
       "   api-ms-win-shcore-obsolete-l1-1-0.dll  \\\n",
       "0                                      0   \n",
       "0                                      0   \n",
       "0                                      0   \n",
       "0                                      0   \n",
       "0                                      0   \n",
       "\n",
       "   api-ms-win-rtcore-ntuser-wmpointer-l1-1-3.dll  Wcmsvc.dll  QUARTZ.dll  \\\n",
       "0                                              0           0           0   \n",
       "0                                              0           0           0   \n",
       "0                                              0           0           0   \n",
       "0                                              0           0           0   \n",
       "0                                              0           0           0   \n",
       "\n",
       "      ...      api-ms-win-core-errorhandling-l1-1-1.dll  SensApi.dll  \\\n",
       "0     ...                                             0            0   \n",
       "0     ...                                             0            0   \n",
       "0     ...                                             0            0   \n",
       "0     ...                                             0            0   \n",
       "0     ...                                             0            0   \n",
       "\n",
       "   MSVCR71.dll  api-ms-win-core-path-l1-1-0.dll  BASESRV.dll  netprovfw.dll  \\\n",
       "0            0                                0            0              0   \n",
       "0            0                                0            0              0   \n",
       "0            0                                0            0              0   \n",
       "0            0                                0            0              0   \n",
       "0            0                                0            0              0   \n",
       "\n",
       "   P2P.dll  DWrite.dll  aeinv.dll  esscli.dll  \n",
       "0        0           0          0           0  \n",
       "0        0           0          0           0  \n",
       "0        0           0          0           0  \n",
       "0        0           0          0           0  \n",
       "0        0           0          0           0  \n",
       "\n",
       "[5 rows x 1018 columns]"
      ]
     },
     "execution_count": 21,
     "metadata": {},
     "output_type": "execute_result"
    }
   ],
   "source": [
    "function.head()"
   ]
  },
  {
   "cell_type": "code",
   "execution_count": 22,
   "metadata": {
    "collapsed": false
   },
   "outputs": [
    {
     "data": {
      "text/plain": [
       "0    3130\n",
       "1    2851\n",
       "Name: Malicious, dtype: int64"
      ]
     },
     "execution_count": 22,
     "metadata": {},
     "output_type": "execute_result"
    }
   ],
   "source": [
    "function['Malicious'].value_counts()"
   ]
  },
  {
   "cell_type": "code",
   "execution_count": 23,
   "metadata": {
    "collapsed": true
   },
   "outputs": [],
   "source": [
    "function.to_csv(\"DLL_files_all_data.csv\")"
   ]
  },
  {
   "cell_type": "code",
   "execution_count": null,
   "metadata": {
    "collapsed": true
   },
   "outputs": [],
   "source": []
  }
 ],
 "metadata": {
  "anaconda-cloud": {},
  "kernelspec": {
   "display_name": "Python [conda root]",
   "language": "python",
   "name": "conda-root-py"
  },
  "language_info": {
   "codemirror_mode": {
    "name": "ipython",
    "version": 3
   },
   "file_extension": ".py",
   "mimetype": "text/x-python",
   "name": "python",
   "nbconvert_exporter": "python",
   "pygments_lexer": "ipython3",
   "version": "3.5.2"
  }
 },
 "nbformat": 4,
 "nbformat_minor": 1
}
