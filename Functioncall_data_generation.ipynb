{
 "cells": [
  {
   "cell_type": "code",
   "execution_count": 1,
   "metadata": {
    "collapsed": true
   },
   "outputs": [],
   "source": [
    "import pefile\n",
    "import glob\n",
    "import csv\n",
    "import os\n",
    "import numpy as np\n",
    "import pandas as pd"
   ]
  },
  {
   "cell_type": "code",
   "execution_count": 3,
   "metadata": {
    "collapsed": false
   },
   "outputs": [],
   "source": [
    "function= pd.read_csv(\"/home/naresh/Downloads/Project/Project/functioncall_list.csv\")"
   ]
  },
  {
   "cell_type": "code",
   "execution_count": 4,
   "metadata": {
    "collapsed": false
   },
   "outputs": [
    {
     "data": {
      "text/html": [
       "<div>\n",
       "<table border=\"1\" class=\"dataframe\">\n",
       "  <thead>\n",
       "    <tr style=\"text-align: right;\">\n",
       "      <th></th>\n",
       "      <th>Unnamed: 0</th>\n",
       "      <th>0</th>\n",
       "    </tr>\n",
       "  </thead>\n",
       "  <tbody>\n",
       "    <tr>\n",
       "      <th>0</th>\n",
       "      <td>0</td>\n",
       "      <td>WSManEnumeratorNextObject</td>\n",
       "    </tr>\n",
       "    <tr>\n",
       "      <th>1</th>\n",
       "      <td>1</td>\n",
       "      <td>ResumeThread</td>\n",
       "    </tr>\n",
       "    <tr>\n",
       "      <th>2</th>\n",
       "      <td>2</td>\n",
       "      <td>@Classes@TComponent@FreeNotification$qqrp18Cla...</td>\n",
       "    </tr>\n",
       "    <tr>\n",
       "      <th>3</th>\n",
       "      <td>3</td>\n",
       "      <td>_wperror</td>\n",
       "    </tr>\n",
       "    <tr>\n",
       "      <th>4</th>\n",
       "      <td>4</td>\n",
       "      <td>?Initialize@HWNDElement@DirectUI@@QAEJPAUHWND_...</td>\n",
       "    </tr>\n",
       "  </tbody>\n",
       "</table>\n",
       "</div>"
      ],
      "text/plain": [
       "   Unnamed: 0                                                  0\n",
       "0           0                          WSManEnumeratorNextObject\n",
       "1           1                                       ResumeThread\n",
       "2           2  @Classes@TComponent@FreeNotification$qqrp18Cla...\n",
       "3           3                                           _wperror\n",
       "4           4  ?Initialize@HWNDElement@DirectUI@@QAEJPAUHWND_..."
      ]
     },
     "execution_count": 4,
     "metadata": {},
     "output_type": "execute_result"
    }
   ],
   "source": [
    "function.head()"
   ]
  },
  {
   "cell_type": "code",
   "execution_count": 5,
   "metadata": {
    "collapsed": true
   },
   "outputs": [],
   "source": [
    "function=function.drop(['Unnamed: 0'],axis=1)"
   ]
  },
  {
   "cell_type": "code",
   "execution_count": 6,
   "metadata": {
    "collapsed": false
   },
   "outputs": [
    {
     "name": "stdout",
     "output_type": "stream",
     "text": [
      "<class 'pandas.core.frame.DataFrame'>\n",
      "RangeIndex: 22202 entries, 0 to 22201\n",
      "Data columns (total 1 columns):\n",
      "0    22202 non-null object\n",
      "dtypes: object(1)\n",
      "memory usage: 173.5+ KB\n"
     ]
    }
   ],
   "source": [
    "function.info()"
   ]
  },
  {
   "cell_type": "code",
   "execution_count": 7,
   "metadata": {
    "collapsed": true
   },
   "outputs": [],
   "source": [
    "function.columns=[\"functions\"]"
   ]
  },
  {
   "cell_type": "code",
   "execution_count": 8,
   "metadata": {
    "collapsed": true
   },
   "outputs": [],
   "source": [
    "datalist=function['functions'].tolist()"
   ]
  },
  {
   "cell_type": "code",
   "execution_count": 9,
   "metadata": {
    "collapsed": false
   },
   "outputs": [
    {
     "data": {
      "text/plain": [
       "22202"
      ]
     },
     "execution_count": 9,
     "metadata": {},
     "output_type": "execute_result"
    }
   ],
   "source": [
    "len(datalist)"
   ]
  },
  {
   "cell_type": "code",
   "execution_count": 10,
   "metadata": {
    "collapsed": true
   },
   "outputs": [],
   "source": [
    "datalist=['FileName']+['Malicious']+datalist"
   ]
  },
  {
   "cell_type": "code",
   "execution_count": 11,
   "metadata": {
    "collapsed": false
   },
   "outputs": [
    {
     "data": {
      "text/plain": [
       "22204"
      ]
     },
     "execution_count": 11,
     "metadata": {},
     "output_type": "execute_result"
    }
   ],
   "source": [
    "len(datalist)"
   ]
  },
  {
   "cell_type": "code",
   "execution_count": 12,
   "metadata": {
    "collapsed": true
   },
   "outputs": [],
   "source": [
    "function=pd.DataFrame(0,index=[0],columns=datalist)"
   ]
  },
  {
   "cell_type": "code",
   "execution_count": 15,
   "metadata": {
    "collapsed": false
   },
   "outputs": [],
   "source": [
    "function['FileName']=function.FileName.astype(object)"
   ]
  },
  {
   "cell_type": "code",
   "execution_count": 16,
   "metadata": {
    "collapsed": false
   },
   "outputs": [
    {
     "data": {
      "text/html": [
       "<div>\n",
       "<table border=\"1\" class=\"dataframe\">\n",
       "  <thead>\n",
       "    <tr style=\"text-align: right;\">\n",
       "      <th></th>\n",
       "      <th>FileName</th>\n",
       "      <th>Malicious</th>\n",
       "      <th>WSManEnumeratorNextObject</th>\n",
       "      <th>ResumeThread</th>\n",
       "      <th>@Classes@TComponent@FreeNotification$qqrp18Classes@TComponent</th>\n",
       "      <th>_wperror</th>\n",
       "      <th>?Initialize@HWNDElement@DirectUI@@QAEJPAUHWND__@@_NIPAVElement@2@PAK@Z</th>\n",
       "      <th>WerpSetIntegratorReportId</th>\n",
       "      <th>RpcServerRegisterAuthInfoA</th>\n",
       "      <th>ShowCalendarChooser</th>\n",
       "      <th>...</th>\n",
       "      <th>RCClass_AddMethodQualifierArray</th>\n",
       "      <th>ObjectStublessClient3</th>\n",
       "      <th>TakeOwnershipOnFolder</th>\n",
       "      <th>FwpiVpnTriggerAddSecurityDescriptor</th>\n",
       "      <th>WTSSendMessageW</th>\n",
       "      <th>NetSetupGetObjectProperties</th>\n",
       "      <th>?Push@INTSTACK@@QEAAEVBIG_INT@@@Z</th>\n",
       "      <th>PerfQueryCounterSetRegistrationInfo</th>\n",
       "      <th>??1?$basic_string@GU?$char_traits@G@std@@V?$STLAllocator@G@SmallBlockAllocator@utility@dvacore@@@std@@QAE@XZ</th>\n",
       "      <th>?getloc@?$basic_streambuf@DU?$char_traits@D@std@@@std@@QEBA?AVlocale@2@XZ</th>\n",
       "    </tr>\n",
       "  </thead>\n",
       "  <tbody>\n",
       "    <tr>\n",
       "      <th>0</th>\n",
       "      <td>0</td>\n",
       "      <td>0</td>\n",
       "      <td>0</td>\n",
       "      <td>0</td>\n",
       "      <td>0</td>\n",
       "      <td>0</td>\n",
       "      <td>0</td>\n",
       "      <td>0</td>\n",
       "      <td>0</td>\n",
       "      <td>0</td>\n",
       "      <td>...</td>\n",
       "      <td>0</td>\n",
       "      <td>0</td>\n",
       "      <td>0</td>\n",
       "      <td>0</td>\n",
       "      <td>0</td>\n",
       "      <td>0</td>\n",
       "      <td>0</td>\n",
       "      <td>0</td>\n",
       "      <td>0</td>\n",
       "      <td>0</td>\n",
       "    </tr>\n",
       "  </tbody>\n",
       "</table>\n",
       "<p>1 rows × 22204 columns</p>\n",
       "</div>"
      ],
      "text/plain": [
       "  FileName  Malicious  WSManEnumeratorNextObject  ResumeThread  \\\n",
       "0        0          0                          0             0   \n",
       "\n",
       "   @Classes@TComponent@FreeNotification$qqrp18Classes@TComponent  _wperror  \\\n",
       "0                                                  0                     0   \n",
       "\n",
       "   ?Initialize@HWNDElement@DirectUI@@QAEJPAUHWND__@@_NIPAVElement@2@PAK@Z  \\\n",
       "0                                                  0                        \n",
       "\n",
       "   WerpSetIntegratorReportId  RpcServerRegisterAuthInfoA  ShowCalendarChooser  \\\n",
       "0                          0                           0                    0   \n",
       "\n",
       "                                     ...                                      \\\n",
       "0                                    ...                                       \n",
       "\n",
       "   RCClass_AddMethodQualifierArray  ObjectStublessClient3  \\\n",
       "0                                0                      0   \n",
       "\n",
       "   TakeOwnershipOnFolder  FwpiVpnTriggerAddSecurityDescriptor  \\\n",
       "0                      0                                    0   \n",
       "\n",
       "   WTSSendMessageW  NetSetupGetObjectProperties  \\\n",
       "0                0                            0   \n",
       "\n",
       "   ?Push@INTSTACK@@QEAAEVBIG_INT@@@Z  PerfQueryCounterSetRegistrationInfo  \\\n",
       "0                                  0                                    0   \n",
       "\n",
       "   ??1?$basic_string@GU?$char_traits@G@std@@V?$STLAllocator@G@SmallBlockAllocator@utility@dvacore@@@std@@QAE@XZ  \\\n",
       "0                                                  0                                                              \n",
       "\n",
       "   ?getloc@?$basic_streambuf@DU?$char_traits@D@std@@@std@@QEBA?AVlocale@2@XZ  \n",
       "0                                                  0                          \n",
       "\n",
       "[1 rows x 22204 columns]"
      ]
     },
     "execution_count": 16,
     "metadata": {},
     "output_type": "execute_result"
    }
   ],
   "source": [
    "function.head()"
   ]
  },
  {
   "cell_type": "code",
   "execution_count": 17,
   "metadata": {
    "collapsed": true
   },
   "outputs": [],
   "source": [
    "function=function.drop(function.index[[0]])"
   ]
  },
  {
   "cell_type": "code",
   "execution_count": 18,
   "metadata": {
    "collapsed": true
   },
   "outputs": [],
   "source": [
    "g=glob.glob(\"/home/naresh/Downloads/Project/Virus.Win/*\");"
   ]
  },
  {
   "cell_type": "code",
   "execution_count": 19,
   "metadata": {
    "collapsed": true
   },
   "outputs": [],
   "source": [
    "for files in g:\n",
    "    try:\n",
    "        pe=pefile.PE(files)\n",
    "        toadd=pd.DataFrame(0,index=[0],columns=datalist)\n",
    "        toadd['FileName']=toadd.FileName.astype(object)\n",
    "        toadd.set_value(0,'FileName',files)\n",
    "        toadd.set_value(0,'Malicious',1)\n",
    "        for entry in pe.DIRECTORY_ENTRY_IMPORT:\n",
    "            for imp in entry.imports:\n",
    "                if imp.name.decode('ASCII') in toadd.columns:\n",
    "                    toadd.set_value(0,imp.name.decode('ASCII'),1)    \n",
    "        function=function.append(toadd)\n",
    "    except:\n",
    "        pass"
   ]
  },
  {
   "cell_type": "code",
   "execution_count": 20,
   "metadata": {
    "collapsed": false
   },
   "outputs": [
    {
     "name": "stdout",
     "output_type": "stream",
     "text": [
      "<class 'pandas.core.frame.DataFrame'>\n",
      "Int64Index: 2100 entries, 0 to 0\n",
      "Columns: 22204 entries, FileName to ?getloc@?$basic_streambuf@DU?$char_traits@D@std@@@std@@QEBA?AVlocale@2@XZ\n",
      "dtypes: int64(22203), object(1)\n",
      "memory usage: 355.8+ MB\n"
     ]
    }
   ],
   "source": [
    "function.info()"
   ]
  },
  {
   "cell_type": "code",
   "execution_count": 21,
   "metadata": {
    "collapsed": false
   },
   "outputs": [
    {
     "data": {
      "text/html": [
       "<div>\n",
       "<table border=\"1\" class=\"dataframe\">\n",
       "  <thead>\n",
       "    <tr style=\"text-align: right;\">\n",
       "      <th></th>\n",
       "      <th>FileName</th>\n",
       "      <th>Malicious</th>\n",
       "      <th>WSManEnumeratorNextObject</th>\n",
       "      <th>ResumeThread</th>\n",
       "      <th>@Classes@TComponent@FreeNotification$qqrp18Classes@TComponent</th>\n",
       "      <th>_wperror</th>\n",
       "      <th>?Initialize@HWNDElement@DirectUI@@QAEJPAUHWND__@@_NIPAVElement@2@PAK@Z</th>\n",
       "      <th>WerpSetIntegratorReportId</th>\n",
       "      <th>RpcServerRegisterAuthInfoA</th>\n",
       "      <th>ShowCalendarChooser</th>\n",
       "      <th>...</th>\n",
       "      <th>RCClass_AddMethodQualifierArray</th>\n",
       "      <th>ObjectStublessClient3</th>\n",
       "      <th>TakeOwnershipOnFolder</th>\n",
       "      <th>FwpiVpnTriggerAddSecurityDescriptor</th>\n",
       "      <th>WTSSendMessageW</th>\n",
       "      <th>NetSetupGetObjectProperties</th>\n",
       "      <th>?Push@INTSTACK@@QEAAEVBIG_INT@@@Z</th>\n",
       "      <th>PerfQueryCounterSetRegistrationInfo</th>\n",
       "      <th>??1?$basic_string@GU?$char_traits@G@std@@V?$STLAllocator@G@SmallBlockAllocator@utility@dvacore@@@std@@QAE@XZ</th>\n",
       "      <th>?getloc@?$basic_streambuf@DU?$char_traits@D@std@@@std@@QEBA?AVlocale@2@XZ</th>\n",
       "    </tr>\n",
       "  </thead>\n",
       "  <tbody>\n",
       "    <tr>\n",
       "      <th>0</th>\n",
       "      <td>/home/naresh/Downloads/Project/Virus.Win/Virus...</td>\n",
       "      <td>1</td>\n",
       "      <td>0</td>\n",
       "      <td>0</td>\n",
       "      <td>0</td>\n",
       "      <td>0</td>\n",
       "      <td>0</td>\n",
       "      <td>0</td>\n",
       "      <td>0</td>\n",
       "      <td>0</td>\n",
       "      <td>...</td>\n",
       "      <td>0</td>\n",
       "      <td>0</td>\n",
       "      <td>0</td>\n",
       "      <td>0</td>\n",
       "      <td>0</td>\n",
       "      <td>0</td>\n",
       "      <td>0</td>\n",
       "      <td>0</td>\n",
       "      <td>0</td>\n",
       "      <td>0</td>\n",
       "    </tr>\n",
       "    <tr>\n",
       "      <th>0</th>\n",
       "      <td>/home/naresh/Downloads/Project/Virus.Win/Virus...</td>\n",
       "      <td>1</td>\n",
       "      <td>0</td>\n",
       "      <td>0</td>\n",
       "      <td>0</td>\n",
       "      <td>0</td>\n",
       "      <td>0</td>\n",
       "      <td>0</td>\n",
       "      <td>0</td>\n",
       "      <td>0</td>\n",
       "      <td>...</td>\n",
       "      <td>0</td>\n",
       "      <td>0</td>\n",
       "      <td>0</td>\n",
       "      <td>0</td>\n",
       "      <td>0</td>\n",
       "      <td>0</td>\n",
       "      <td>0</td>\n",
       "      <td>0</td>\n",
       "      <td>0</td>\n",
       "      <td>0</td>\n",
       "    </tr>\n",
       "    <tr>\n",
       "      <th>0</th>\n",
       "      <td>/home/naresh/Downloads/Project/Virus.Win/Virus...</td>\n",
       "      <td>1</td>\n",
       "      <td>0</td>\n",
       "      <td>0</td>\n",
       "      <td>0</td>\n",
       "      <td>0</td>\n",
       "      <td>0</td>\n",
       "      <td>0</td>\n",
       "      <td>0</td>\n",
       "      <td>0</td>\n",
       "      <td>...</td>\n",
       "      <td>0</td>\n",
       "      <td>0</td>\n",
       "      <td>0</td>\n",
       "      <td>0</td>\n",
       "      <td>0</td>\n",
       "      <td>0</td>\n",
       "      <td>0</td>\n",
       "      <td>0</td>\n",
       "      <td>0</td>\n",
       "      <td>0</td>\n",
       "    </tr>\n",
       "    <tr>\n",
       "      <th>0</th>\n",
       "      <td>/home/naresh/Downloads/Project/Virus.Win/Virus...</td>\n",
       "      <td>1</td>\n",
       "      <td>0</td>\n",
       "      <td>0</td>\n",
       "      <td>0</td>\n",
       "      <td>0</td>\n",
       "      <td>0</td>\n",
       "      <td>0</td>\n",
       "      <td>0</td>\n",
       "      <td>0</td>\n",
       "      <td>...</td>\n",
       "      <td>0</td>\n",
       "      <td>0</td>\n",
       "      <td>0</td>\n",
       "      <td>0</td>\n",
       "      <td>0</td>\n",
       "      <td>0</td>\n",
       "      <td>0</td>\n",
       "      <td>0</td>\n",
       "      <td>0</td>\n",
       "      <td>0</td>\n",
       "    </tr>\n",
       "    <tr>\n",
       "      <th>0</th>\n",
       "      <td>/home/naresh/Downloads/Project/Virus.Win/Virus...</td>\n",
       "      <td>1</td>\n",
       "      <td>0</td>\n",
       "      <td>0</td>\n",
       "      <td>0</td>\n",
       "      <td>0</td>\n",
       "      <td>0</td>\n",
       "      <td>0</td>\n",
       "      <td>0</td>\n",
       "      <td>0</td>\n",
       "      <td>...</td>\n",
       "      <td>0</td>\n",
       "      <td>0</td>\n",
       "      <td>0</td>\n",
       "      <td>0</td>\n",
       "      <td>0</td>\n",
       "      <td>0</td>\n",
       "      <td>0</td>\n",
       "      <td>0</td>\n",
       "      <td>0</td>\n",
       "      <td>0</td>\n",
       "    </tr>\n",
       "  </tbody>\n",
       "</table>\n",
       "<p>5 rows × 22204 columns</p>\n",
       "</div>"
      ],
      "text/plain": [
       "                                            FileName  Malicious  \\\n",
       "0  /home/naresh/Downloads/Project/Virus.Win/Virus...          1   \n",
       "0  /home/naresh/Downloads/Project/Virus.Win/Virus...          1   \n",
       "0  /home/naresh/Downloads/Project/Virus.Win/Virus...          1   \n",
       "0  /home/naresh/Downloads/Project/Virus.Win/Virus...          1   \n",
       "0  /home/naresh/Downloads/Project/Virus.Win/Virus...          1   \n",
       "\n",
       "   WSManEnumeratorNextObject  ResumeThread  \\\n",
       "0                          0             0   \n",
       "0                          0             0   \n",
       "0                          0             0   \n",
       "0                          0             0   \n",
       "0                          0             0   \n",
       "\n",
       "   @Classes@TComponent@FreeNotification$qqrp18Classes@TComponent  _wperror  \\\n",
       "0                                                  0                     0   \n",
       "0                                                  0                     0   \n",
       "0                                                  0                     0   \n",
       "0                                                  0                     0   \n",
       "0                                                  0                     0   \n",
       "\n",
       "   ?Initialize@HWNDElement@DirectUI@@QAEJPAUHWND__@@_NIPAVElement@2@PAK@Z  \\\n",
       "0                                                  0                        \n",
       "0                                                  0                        \n",
       "0                                                  0                        \n",
       "0                                                  0                        \n",
       "0                                                  0                        \n",
       "\n",
       "   WerpSetIntegratorReportId  RpcServerRegisterAuthInfoA  ShowCalendarChooser  \\\n",
       "0                          0                           0                    0   \n",
       "0                          0                           0                    0   \n",
       "0                          0                           0                    0   \n",
       "0                          0                           0                    0   \n",
       "0                          0                           0                    0   \n",
       "\n",
       "                                     ...                                      \\\n",
       "0                                    ...                                       \n",
       "0                                    ...                                       \n",
       "0                                    ...                                       \n",
       "0                                    ...                                       \n",
       "0                                    ...                                       \n",
       "\n",
       "   RCClass_AddMethodQualifierArray  ObjectStublessClient3  \\\n",
       "0                                0                      0   \n",
       "0                                0                      0   \n",
       "0                                0                      0   \n",
       "0                                0                      0   \n",
       "0                                0                      0   \n",
       "\n",
       "   TakeOwnershipOnFolder  FwpiVpnTriggerAddSecurityDescriptor  \\\n",
       "0                      0                                    0   \n",
       "0                      0                                    0   \n",
       "0                      0                                    0   \n",
       "0                      0                                    0   \n",
       "0                      0                                    0   \n",
       "\n",
       "   WTSSendMessageW  NetSetupGetObjectProperties  \\\n",
       "0                0                            0   \n",
       "0                0                            0   \n",
       "0                0                            0   \n",
       "0                0                            0   \n",
       "0                0                            0   \n",
       "\n",
       "   ?Push@INTSTACK@@QEAAEVBIG_INT@@@Z  PerfQueryCounterSetRegistrationInfo  \\\n",
       "0                                  0                                    0   \n",
       "0                                  0                                    0   \n",
       "0                                  0                                    0   \n",
       "0                                  0                                    0   \n",
       "0                                  0                                    0   \n",
       "\n",
       "   ??1?$basic_string@GU?$char_traits@G@std@@V?$STLAllocator@G@SmallBlockAllocator@utility@dvacore@@@std@@QAE@XZ  \\\n",
       "0                                                  0                                                              \n",
       "0                                                  0                                                              \n",
       "0                                                  0                                                              \n",
       "0                                                  0                                                              \n",
       "0                                                  0                                                              \n",
       "\n",
       "   ?getloc@?$basic_streambuf@DU?$char_traits@D@std@@@std@@QEBA?AVlocale@2@XZ  \n",
       "0                                                  0                          \n",
       "0                                                  0                          \n",
       "0                                                  0                          \n",
       "0                                                  0                          \n",
       "0                                                  0                          \n",
       "\n",
       "[5 rows x 22204 columns]"
      ]
     },
     "execution_count": 21,
     "metadata": {},
     "output_type": "execute_result"
    }
   ],
   "source": [
    "function.head()"
   ]
  },
  {
   "cell_type": "code",
   "execution_count": 22,
   "metadata": {
    "collapsed": true
   },
   "outputs": [],
   "source": [
    "g=glob.glob(\"/home/naresh/Downloads/Project/Benign/*\");"
   ]
  },
  {
   "cell_type": "code",
   "execution_count": 23,
   "metadata": {
    "collapsed": true
   },
   "outputs": [],
   "source": [
    "for files in g:\n",
    "    try:\n",
    "        pe=pefile.PE(files)\n",
    "        toadd=pd.DataFrame(0,index=[0],columns=datalist)\n",
    "        toadd['FileName']=toadd.FileName.astype(object)\n",
    "        toadd.set_value(0,'FileName',files)\n",
    "        toadd.set_value(0,'Malicious',0)\n",
    "        for entry in pe.DIRECTORY_ENTRY_IMPORT:\n",
    "            for imp in entry.imports:\n",
    "                if imp.name.decode('ASCII') in toadd.columns:\n",
    "                    toadd.set_value(0,imp.name.decode('ASCII'),1)    \n",
    "        function=function.append(toadd)\n",
    "    except:\n",
    "        pass"
   ]
  },
  {
   "cell_type": "code",
   "execution_count": 24,
   "metadata": {
    "collapsed": false
   },
   "outputs": [
    {
     "name": "stdout",
     "output_type": "stream",
     "text": [
      "<class 'pandas.core.frame.DataFrame'>\n",
      "Int64Index: 4489 entries, 0 to 0\n",
      "Columns: 22204 entries, FileName to ?getloc@?$basic_streambuf@DU?$char_traits@D@std@@@std@@QEBA?AVlocale@2@XZ\n",
      "dtypes: int64(22203), object(1)\n",
      "memory usage: 760.5+ MB\n"
     ]
    }
   ],
   "source": [
    "function.info()"
   ]
  },
  {
   "cell_type": "code",
   "execution_count": 25,
   "metadata": {
    "collapsed": true
   },
   "outputs": [],
   "source": [
    "function.to_csv(\"functioncalls_alldata.csv\")"
   ]
  },
  {
   "cell_type": "code",
   "execution_count": null,
   "metadata": {
    "collapsed": true
   },
   "outputs": [],
   "source": []
  }
 ],
 "metadata": {
  "anaconda-cloud": {},
  "kernelspec": {
   "display_name": "Python [conda root]",
   "language": "python",
   "name": "conda-root-py"
  },
  "language_info": {
   "codemirror_mode": {
    "name": "ipython",
    "version": 3
   },
   "file_extension": ".py",
   "mimetype": "text/x-python",
   "name": "python",
   "nbconvert_exporter": "python",
   "pygments_lexer": "ipython3",
   "version": "3.5.2"
  }
 },
 "nbformat": 4,
 "nbformat_minor": 1
}
