{
 "cells": [
  {
   "cell_type": "code",
   "execution_count": 1,
   "metadata": {
    "collapsed": true
   },
   "outputs": [],
   "source": [
    "import pefile\n",
    "import glob\n",
    "import csv\n",
    "import os\n",
    "import numpy as np\n",
    "import pandas as pd"
   ]
  },
  {
   "cell_type": "code",
   "execution_count": 2,
   "metadata": {
    "collapsed": true
   },
   "outputs": [],
   "source": [
    "g=glob.glob(\"/home/naresh/Downloads/Project/Benign/*\");"
   ]
  },
  {
   "cell_type": "code",
   "execution_count": 3,
   "metadata": {
    "collapsed": true
   },
   "outputs": [],
   "source": [
    "d=[]"
   ]
  },
  {
   "cell_type": "code",
   "execution_count": 4,
   "metadata": {
    "collapsed": false
   },
   "outputs": [],
   "source": [
    "for files in g:\n",
    "    try:\n",
    "        pe=pefile.PE(files,fast_load=True);\n",
    "        d.append((files,pe.DOS_HEADER.e_magic,pe.DOS_HEADER.e_cblp,pe.DOS_HEADER.e_cp,pe.DOS_HEADER.e_crlc,pe.DOS_HEADER.e_cparhdr,pe.DOS_HEADER.e_minalloc,pe.DOS_HEADER.e_maxalloc,pe.DOS_HEADER.e_ss,pe.DOS_HEADER.e_sp,pe.DOS_HEADER.e_csum,pe.DOS_HEADER.e_ip,pe.DOS_HEADER.e_cs,pe.DOS_HEADER.e_lfarlc,pe.DOS_HEADER.e_ovno,pe.DOS_HEADER.e_oemid,pe.DOS_HEADER.e_oeminfo,pe.DOS_HEADER.e_lfanew,pe.FILE_HEADER.Machine,pe.FILE_HEADER.NumberOfSections,pe.FILE_HEADER.TimeDateStamp,pe.FILE_HEADER.PointerToSymbolTable,pe.FILE_HEADER.NumberOfSymbols,pe.FILE_HEADER.SizeOfOptionalHeader,pe.FILE_HEADER.Characteristics,pe.OPTIONAL_HEADER.MajorLinkerVersion,pe.OPTIONAL_HEADER.MinorLinkerVersion,pe.OPTIONAL_HEADER.SizeOfCode,pe.OPTIONAL_HEADER.SizeOfInitializedData,pe.OPTIONAL_HEADER.SizeOfUninitializedData,pe.OPTIONAL_HEADER.AddressOfEntryPoint,pe.OPTIONAL_HEADER.BaseOfCode,pe.OPTIONAL_HEADER.BaseOfData,pe.OPTIONAL_HEADER.ImageBase,pe.OPTIONAL_HEADER.SectionAlignment,pe.OPTIONAL_HEADER.FileAlignment,pe.OPTIONAL_HEADER.MajorOperatingSystemVersion,pe.OPTIONAL_HEADER.MinorOperatingSystemVersion,pe.OPTIONAL_HEADER.MajorImageVersion,pe.OPTIONAL_HEADER.MinorImageVersion,pe.OPTIONAL_HEADER.MajorSubsystemVersion,pe.OPTIONAL_HEADER.MinorSubsystemVersion,pe.OPTIONAL_HEADER.Reserved1,pe.OPTIONAL_HEADER.SizeOfImage,pe.OPTIONAL_HEADER.SizeOfHeaders,pe.OPTIONAL_HEADER.CheckSum,pe.OPTIONAL_HEADER.Subsystem,pe.OPTIONAL_HEADER.DllCharacteristics,pe.OPTIONAL_HEADER.SizeOfStackReserve,pe.OPTIONAL_HEADER.SizeOfStackCommit,pe.OPTIONAL_HEADER.SizeOfHeapReserve,pe.OPTIONAL_HEADER.SizeOfHeapCommit,pe.OPTIONAL_HEADER.LoaderFlags,pe.OPTIONAL_HEADER.NumberOfRvaAndSizes,0))\n",
    "    except Exception as e:\n",
    "        d.append((files,pe.DOS_HEADER.e_magic,pe.DOS_HEADER.e_cblp,pe.DOS_HEADER.e_cp,pe.DOS_HEADER.e_crlc,pe.DOS_HEADER.e_cparhdr,pe.DOS_HEADER.e_minalloc,pe.DOS_HEADER.e_maxalloc,pe.DOS_HEADER.e_ss,pe.DOS_HEADER.e_sp,pe.DOS_HEADER.e_csum,pe.DOS_HEADER.e_ip,pe.DOS_HEADER.e_cs,pe.DOS_HEADER.e_lfarlc,pe.DOS_HEADER.e_ovno,pe.DOS_HEADER.e_oemid,pe.DOS_HEADER.e_oeminfo,pe.DOS_HEADER.e_lfanew,pe.FILE_HEADER.Machine,pe.FILE_HEADER.NumberOfSections,pe.FILE_HEADER.TimeDateStamp,pe.FILE_HEADER.PointerToSymbolTable,pe.FILE_HEADER.NumberOfSymbols,pe.FILE_HEADER.SizeOfOptionalHeader,pe.FILE_HEADER.Characteristics,pe.OPTIONAL_HEADER.MajorLinkerVersion,pe.OPTIONAL_HEADER.MinorLinkerVersion,pe.OPTIONAL_HEADER.SizeOfCode,pe.OPTIONAL_HEADER.SizeOfInitializedData,pe.OPTIONAL_HEADER.SizeOfUninitializedData,pe.OPTIONAL_HEADER.AddressOfEntryPoint,pe.OPTIONAL_HEADER.BaseOfCode,np.NaN,pe.OPTIONAL_HEADER.ImageBase,pe.OPTIONAL_HEADER.SectionAlignment,pe.OPTIONAL_HEADER.FileAlignment,pe.OPTIONAL_HEADER.MajorOperatingSystemVersion,pe.OPTIONAL_HEADER.MinorOperatingSystemVersion,pe.OPTIONAL_HEADER.MajorImageVersion,pe.OPTIONAL_HEADER.MinorImageVersion,pe.OPTIONAL_HEADER.MajorSubsystemVersion,pe.OPTIONAL_HEADER.MinorSubsystemVersion,pe.OPTIONAL_HEADER.Reserved1,pe.OPTIONAL_HEADER.SizeOfImage,pe.OPTIONAL_HEADER.SizeOfHeaders,pe.OPTIONAL_HEADER.CheckSum,pe.OPTIONAL_HEADER.Subsystem,pe.OPTIONAL_HEADER.DllCharacteristics,pe.OPTIONAL_HEADER.SizeOfStackReserve,pe.OPTIONAL_HEADER.SizeOfStackCommit,pe.OPTIONAL_HEADER.SizeOfHeapReserve,pe.OPTIONAL_HEADER.SizeOfHeapCommit,pe.OPTIONAL_HEADER.LoaderFlags,pe.OPTIONAL_HEADER.NumberOfRvaAndSizes,0))\n",
    "        pass"
   ]
  },
  {
   "cell_type": "code",
   "execution_count": 5,
   "metadata": {
    "collapsed": true
   },
   "outputs": [],
   "source": [
    "g=glob.glob(\"/home/naresh/Downloads/Project/Virus.Win/*\");"
   ]
  },
  {
   "cell_type": "code",
   "execution_count": 6,
   "metadata": {
    "collapsed": true
   },
   "outputs": [],
   "source": [
    "for files in g:\n",
    "    try:\n",
    "        pe=pefile.PE(files,fast_load=True);\n",
    "        d.append((files,pe.DOS_HEADER.e_magic,pe.DOS_HEADER.e_cblp,pe.DOS_HEADER.e_cp,pe.DOS_HEADER.e_crlc,pe.DOS_HEADER.e_cparhdr,pe.DOS_HEADER.e_minalloc,pe.DOS_HEADER.e_maxalloc,pe.DOS_HEADER.e_ss,pe.DOS_HEADER.e_sp,pe.DOS_HEADER.e_csum,pe.DOS_HEADER.e_ip,pe.DOS_HEADER.e_cs,pe.DOS_HEADER.e_lfarlc,pe.DOS_HEADER.e_ovno,pe.DOS_HEADER.e_oemid,pe.DOS_HEADER.e_oeminfo,pe.DOS_HEADER.e_lfanew,pe.FILE_HEADER.Machine,pe.FILE_HEADER.NumberOfSections,pe.FILE_HEADER.TimeDateStamp,pe.FILE_HEADER.PointerToSymbolTable,pe.FILE_HEADER.NumberOfSymbols,pe.FILE_HEADER.SizeOfOptionalHeader,pe.FILE_HEADER.Characteristics,pe.OPTIONAL_HEADER.MajorLinkerVersion,pe.OPTIONAL_HEADER.MinorLinkerVersion,pe.OPTIONAL_HEADER.SizeOfCode,pe.OPTIONAL_HEADER.SizeOfInitializedData,pe.OPTIONAL_HEADER.SizeOfUninitializedData,pe.OPTIONAL_HEADER.AddressOfEntryPoint,pe.OPTIONAL_HEADER.BaseOfCode,pe.OPTIONAL_HEADER.BaseOfData,pe.OPTIONAL_HEADER.ImageBase,pe.OPTIONAL_HEADER.SectionAlignment,pe.OPTIONAL_HEADER.FileAlignment,pe.OPTIONAL_HEADER.MajorOperatingSystemVersion,pe.OPTIONAL_HEADER.MinorOperatingSystemVersion,pe.OPTIONAL_HEADER.MajorImageVersion,pe.OPTIONAL_HEADER.MinorImageVersion,pe.OPTIONAL_HEADER.MajorSubsystemVersion,pe.OPTIONAL_HEADER.MinorSubsystemVersion,pe.OPTIONAL_HEADER.Reserved1,pe.OPTIONAL_HEADER.SizeOfImage,pe.OPTIONAL_HEADER.SizeOfHeaders,pe.OPTIONAL_HEADER.CheckSum,pe.OPTIONAL_HEADER.Subsystem,pe.OPTIONAL_HEADER.DllCharacteristics,pe.OPTIONAL_HEADER.SizeOfStackReserve,pe.OPTIONAL_HEADER.SizeOfStackCommit,pe.OPTIONAL_HEADER.SizeOfHeapReserve,pe.OPTIONAL_HEADER.SizeOfHeapCommit,pe.OPTIONAL_HEADER.LoaderFlags,pe.OPTIONAL_HEADER.NumberOfRvaAndSizes,1))\n",
    "    except Exception as e:\n",
    "        d.append((files,pe.DOS_HEADER.e_magic,pe.DOS_HEADER.e_cblp,pe.DOS_HEADER.e_cp,pe.DOS_HEADER.e_crlc,pe.DOS_HEADER.e_cparhdr,pe.DOS_HEADER.e_minalloc,pe.DOS_HEADER.e_maxalloc,pe.DOS_HEADER.e_ss,pe.DOS_HEADER.e_sp,pe.DOS_HEADER.e_csum,pe.DOS_HEADER.e_ip,pe.DOS_HEADER.e_cs,pe.DOS_HEADER.e_lfarlc,pe.DOS_HEADER.e_ovno,pe.DOS_HEADER.e_oemid,pe.DOS_HEADER.e_oeminfo,pe.DOS_HEADER.e_lfanew,pe.FILE_HEADER.Machine,pe.FILE_HEADER.NumberOfSections,pe.FILE_HEADER.TimeDateStamp,pe.FILE_HEADER.PointerToSymbolTable,pe.FILE_HEADER.NumberOfSymbols,pe.FILE_HEADER.SizeOfOptionalHeader,pe.FILE_HEADER.Characteristics,pe.OPTIONAL_HEADER.MajorLinkerVersion,pe.OPTIONAL_HEADER.MinorLinkerVersion,pe.OPTIONAL_HEADER.SizeOfCode,pe.OPTIONAL_HEADER.SizeOfInitializedData,pe.OPTIONAL_HEADER.SizeOfUninitializedData,pe.OPTIONAL_HEADER.AddressOfEntryPoint,pe.OPTIONAL_HEADER.BaseOfCode,np.NaN,pe.OPTIONAL_HEADER.ImageBase,pe.OPTIONAL_HEADER.SectionAlignment,pe.OPTIONAL_HEADER.FileAlignment,pe.OPTIONAL_HEADER.MajorOperatingSystemVersion,pe.OPTIONAL_HEADER.MinorOperatingSystemVersion,pe.OPTIONAL_HEADER.MajorImageVersion,pe.OPTIONAL_HEADER.MinorImageVersion,pe.OPTIONAL_HEADER.MajorSubsystemVersion,pe.OPTIONAL_HEADER.MinorSubsystemVersion,pe.OPTIONAL_HEADER.Reserved1,pe.OPTIONAL_HEADER.SizeOfImage,pe.OPTIONAL_HEADER.SizeOfHeaders,pe.OPTIONAL_HEADER.CheckSum,pe.OPTIONAL_HEADER.Subsystem,pe.OPTIONAL_HEADER.DllCharacteristics,pe.OPTIONAL_HEADER.SizeOfStackReserve,pe.OPTIONAL_HEADER.SizeOfStackCommit,pe.OPTIONAL_HEADER.SizeOfHeapReserve,pe.OPTIONAL_HEADER.SizeOfHeapCommit,pe.OPTIONAL_HEADER.LoaderFlags,pe.OPTIONAL_HEADER.NumberOfRvaAndSizes,1))\n",
    "        pass"
   ]
  },
  {
   "cell_type": "code",
   "execution_count": 7,
   "metadata": {
    "collapsed": true
   },
   "outputs": [],
   "source": [
    "data= pd.DataFrame(d, columns=('FileName','DOS_HEADER.e_magic','DOS_HEADER.e_cblp','DOS_HEADER.e_cp','DOS_HEADER.e_crlc','DOS_HEADER.e_cparhdr','DOS_HEADER.e_minalloc','DOS_HEADER.e_maxalloc','DOS_HEADER.e_ss','DOS_HEADER.e_sp','DOS_HEADER.e_csum','DOS_HEADER.e_ip','DOS_HEADER.e_cs','DOS_HEADER.e_lfarlc','DOS_HEADER.e_ovno','DOS_HEADER.e_oemid','DOS_HEADER.e_oeminfo','DOS_HEADER.e_lfanew','FILE_HEADER.Machine','FILE_HEADER.NumberOfSections','FILE_HEADER.TimeDateStamp','FILE_HEADER.PointerToSymbolTable','FILE_HEADER.NumberOfSymbols','FILE_HEADER.SizeOfOptionalHeader','FILE_HEADER.Characteristics','OPTIONAL_HEADER.MajorLinkerVersion','OPTIONAL_HEADER.MinorLinkerVersion','OPTIONAL_HEADER.SizeOfCode','OPTIONAL_HEADER.SizeOfInitializedData','OPTIONAL_HEADER.SizeOfUninitializedData','OPTIONAL_HEADER.AddressOfEntryPoint','OPTIONAL_HEADER.BaseOfCode','OPTIONAL_HEADER.BaseOfData','OPTIONAL_HEADER.ImageBase','OPTIONAL_HEADER.SectionAlignment','OPTIONAL_HEADER.FileAlignment','OPTIONAL_HEADER.MajorOperatingSystemVersion','OPTIONAL_HEADER.MinorOperatingSystemVersion','OPTIONAL_HEADER.MajorImageVersion','OPTIONAL_HEADER.MinorImageVersion','OPTIONAL_HEADER.MajorSubsystemVersion','OPTIONAL_HEADER.MinorSubsystemVersion','OPTIONAL_HEADER.Reserved1','OPTIONAL_HEADER.SizeOfImage','OPTIONAL_HEADER.SizeOfHeaders','OPTIONAL_HEADER.CheckSum','OPTIONAL_HEADER.Subsystem','OPTIONAL_HEADER.DllCharacteristics','OPTIONAL_HEADER.SizeOfStackReserve','OPTIONAL_HEADER.SizeOfStackCommit','OPTIONAL_HEADER.SizeOfHeapReserve','OPTIONAL_HEADER.SizeOfHeapCommit','OPTIONAL_HEADER.LoaderFlags','OPTIONAL_HEADER.NumberOfRvaAndSizes','Malicious'))"
   ]
  },
  {
   "cell_type": "code",
   "execution_count": 8,
   "metadata": {
    "collapsed": false
   },
   "outputs": [
    {
     "data": {
      "text/html": [
       "<div>\n",
       "<table border=\"1\" class=\"dataframe\">\n",
       "  <thead>\n",
       "    <tr style=\"text-align: right;\">\n",
       "      <th></th>\n",
       "      <th>FileName</th>\n",
       "      <th>DOS_HEADER.e_magic</th>\n",
       "      <th>DOS_HEADER.e_cblp</th>\n",
       "      <th>DOS_HEADER.e_cp</th>\n",
       "      <th>DOS_HEADER.e_crlc</th>\n",
       "      <th>DOS_HEADER.e_cparhdr</th>\n",
       "      <th>DOS_HEADER.e_minalloc</th>\n",
       "      <th>DOS_HEADER.e_maxalloc</th>\n",
       "      <th>DOS_HEADER.e_ss</th>\n",
       "      <th>DOS_HEADER.e_sp</th>\n",
       "      <th>...</th>\n",
       "      <th>OPTIONAL_HEADER.CheckSum</th>\n",
       "      <th>OPTIONAL_HEADER.Subsystem</th>\n",
       "      <th>OPTIONAL_HEADER.DllCharacteristics</th>\n",
       "      <th>OPTIONAL_HEADER.SizeOfStackReserve</th>\n",
       "      <th>OPTIONAL_HEADER.SizeOfStackCommit</th>\n",
       "      <th>OPTIONAL_HEADER.SizeOfHeapReserve</th>\n",
       "      <th>OPTIONAL_HEADER.SizeOfHeapCommit</th>\n",
       "      <th>OPTIONAL_HEADER.LoaderFlags</th>\n",
       "      <th>OPTIONAL_HEADER.NumberOfRvaAndSizes</th>\n",
       "      <th>Malicious</th>\n",
       "    </tr>\n",
       "  </thead>\n",
       "  <tbody>\n",
       "    <tr>\n",
       "      <th>0</th>\n",
       "      <td>/home/naresh/Downloads/Project/Benign/ChtQuick...</td>\n",
       "      <td>23117</td>\n",
       "      <td>144</td>\n",
       "      <td>3</td>\n",
       "      <td>0</td>\n",
       "      <td>4</td>\n",
       "      <td>0</td>\n",
       "      <td>65535</td>\n",
       "      <td>0</td>\n",
       "      <td>184</td>\n",
       "      <td>...</td>\n",
       "      <td>468969</td>\n",
       "      <td>3</td>\n",
       "      <td>16736</td>\n",
       "      <td>262144</td>\n",
       "      <td>4096</td>\n",
       "      <td>1048576</td>\n",
       "      <td>4096</td>\n",
       "      <td>0</td>\n",
       "      <td>16</td>\n",
       "      <td>0</td>\n",
       "    </tr>\n",
       "    <tr>\n",
       "      <th>1</th>\n",
       "      <td>/home/naresh/Downloads/Project/Benign/DaOtpCre...</td>\n",
       "      <td>23117</td>\n",
       "      <td>144</td>\n",
       "      <td>3</td>\n",
       "      <td>0</td>\n",
       "      <td>4</td>\n",
       "      <td>0</td>\n",
       "      <td>65535</td>\n",
       "      <td>0</td>\n",
       "      <td>184</td>\n",
       "      <td>...</td>\n",
       "      <td>364138</td>\n",
       "      <td>3</td>\n",
       "      <td>16736</td>\n",
       "      <td>262144</td>\n",
       "      <td>4096</td>\n",
       "      <td>1048576</td>\n",
       "      <td>4096</td>\n",
       "      <td>0</td>\n",
       "      <td>16</td>\n",
       "      <td>0</td>\n",
       "    </tr>\n",
       "    <tr>\n",
       "      <th>2</th>\n",
       "      <td>/home/naresh/Downloads/Project/Benign/RMActiva...</td>\n",
       "      <td>23117</td>\n",
       "      <td>144</td>\n",
       "      <td>3</td>\n",
       "      <td>0</td>\n",
       "      <td>4</td>\n",
       "      <td>0</td>\n",
       "      <td>65535</td>\n",
       "      <td>0</td>\n",
       "      <td>184</td>\n",
       "      <td>...</td>\n",
       "      <td>591546</td>\n",
       "      <td>3</td>\n",
       "      <td>49472</td>\n",
       "      <td>262144</td>\n",
       "      <td>8192</td>\n",
       "      <td>1048576</td>\n",
       "      <td>4096</td>\n",
       "      <td>0</td>\n",
       "      <td>16</td>\n",
       "      <td>0</td>\n",
       "    </tr>\n",
       "    <tr>\n",
       "      <th>3</th>\n",
       "      <td>/home/naresh/Downloads/Project/Benign/gamingtc...</td>\n",
       "      <td>23117</td>\n",
       "      <td>144</td>\n",
       "      <td>3</td>\n",
       "      <td>0</td>\n",
       "      <td>4</td>\n",
       "      <td>0</td>\n",
       "      <td>65535</td>\n",
       "      <td>0</td>\n",
       "      <td>184</td>\n",
       "      <td>...</td>\n",
       "      <td>189287</td>\n",
       "      <td>3</td>\n",
       "      <td>16736</td>\n",
       "      <td>262144</td>\n",
       "      <td>4096</td>\n",
       "      <td>1048576</td>\n",
       "      <td>4096</td>\n",
       "      <td>0</td>\n",
       "      <td>16</td>\n",
       "      <td>0</td>\n",
       "    </tr>\n",
       "    <tr>\n",
       "      <th>4</th>\n",
       "      <td>/home/naresh/Downloads/Project/Benign/wmcodecd...</td>\n",
       "      <td>23117</td>\n",
       "      <td>144</td>\n",
       "      <td>3</td>\n",
       "      <td>0</td>\n",
       "      <td>4</td>\n",
       "      <td>0</td>\n",
       "      <td>65535</td>\n",
       "      <td>0</td>\n",
       "      <td>184</td>\n",
       "      <td>...</td>\n",
       "      <td>63486</td>\n",
       "      <td>3</td>\n",
       "      <td>16736</td>\n",
       "      <td>262144</td>\n",
       "      <td>4096</td>\n",
       "      <td>1048576</td>\n",
       "      <td>4096</td>\n",
       "      <td>0</td>\n",
       "      <td>16</td>\n",
       "      <td>0</td>\n",
       "    </tr>\n",
       "  </tbody>\n",
       "</table>\n",
       "<p>5 rows × 55 columns</p>\n",
       "</div>"
      ],
      "text/plain": [
       "                                            FileName  DOS_HEADER.e_magic  \\\n",
       "0  /home/naresh/Downloads/Project/Benign/ChtQuick...               23117   \n",
       "1  /home/naresh/Downloads/Project/Benign/DaOtpCre...               23117   \n",
       "2  /home/naresh/Downloads/Project/Benign/RMActiva...               23117   \n",
       "3  /home/naresh/Downloads/Project/Benign/gamingtc...               23117   \n",
       "4  /home/naresh/Downloads/Project/Benign/wmcodecd...               23117   \n",
       "\n",
       "   DOS_HEADER.e_cblp  DOS_HEADER.e_cp  DOS_HEADER.e_crlc  \\\n",
       "0                144                3                  0   \n",
       "1                144                3                  0   \n",
       "2                144                3                  0   \n",
       "3                144                3                  0   \n",
       "4                144                3                  0   \n",
       "\n",
       "   DOS_HEADER.e_cparhdr  DOS_HEADER.e_minalloc  DOS_HEADER.e_maxalloc  \\\n",
       "0                     4                      0                  65535   \n",
       "1                     4                      0                  65535   \n",
       "2                     4                      0                  65535   \n",
       "3                     4                      0                  65535   \n",
       "4                     4                      0                  65535   \n",
       "\n",
       "   DOS_HEADER.e_ss  DOS_HEADER.e_sp    ...      OPTIONAL_HEADER.CheckSum  \\\n",
       "0                0              184    ...                        468969   \n",
       "1                0              184    ...                        364138   \n",
       "2                0              184    ...                        591546   \n",
       "3                0              184    ...                        189287   \n",
       "4                0              184    ...                         63486   \n",
       "\n",
       "   OPTIONAL_HEADER.Subsystem  OPTIONAL_HEADER.DllCharacteristics  \\\n",
       "0                          3                               16736   \n",
       "1                          3                               16736   \n",
       "2                          3                               49472   \n",
       "3                          3                               16736   \n",
       "4                          3                               16736   \n",
       "\n",
       "   OPTIONAL_HEADER.SizeOfStackReserve  OPTIONAL_HEADER.SizeOfStackCommit  \\\n",
       "0                              262144                               4096   \n",
       "1                              262144                               4096   \n",
       "2                              262144                               8192   \n",
       "3                              262144                               4096   \n",
       "4                              262144                               4096   \n",
       "\n",
       "   OPTIONAL_HEADER.SizeOfHeapReserve  OPTIONAL_HEADER.SizeOfHeapCommit  \\\n",
       "0                            1048576                              4096   \n",
       "1                            1048576                              4096   \n",
       "2                            1048576                              4096   \n",
       "3                            1048576                              4096   \n",
       "4                            1048576                              4096   \n",
       "\n",
       "   OPTIONAL_HEADER.LoaderFlags  OPTIONAL_HEADER.NumberOfRvaAndSizes  Malicious  \n",
       "0                            0                                   16          0  \n",
       "1                            0                                   16          0  \n",
       "2                            0                                   16          0  \n",
       "3                            0                                   16          0  \n",
       "4                            0                                   16          0  \n",
       "\n",
       "[5 rows x 55 columns]"
      ]
     },
     "execution_count": 8,
     "metadata": {},
     "output_type": "execute_result"
    }
   ],
   "source": [
    "data.head()"
   ]
  },
  {
   "cell_type": "code",
   "execution_count": 9,
   "metadata": {
    "collapsed": false
   },
   "outputs": [
    {
     "name": "stdout",
     "output_type": "stream",
     "text": [
      "<class 'pandas.core.frame.DataFrame'>\n",
      "RangeIndex: 6578 entries, 0 to 6577\n",
      "Data columns (total 55 columns):\n",
      "FileName                                       6578 non-null object\n",
      "DOS_HEADER.e_magic                             6578 non-null int64\n",
      "DOS_HEADER.e_cblp                              6578 non-null int64\n",
      "DOS_HEADER.e_cp                                6578 non-null int64\n",
      "DOS_HEADER.e_crlc                              6578 non-null int64\n",
      "DOS_HEADER.e_cparhdr                           6578 non-null int64\n",
      "DOS_HEADER.e_minalloc                          6578 non-null int64\n",
      "DOS_HEADER.e_maxalloc                          6578 non-null int64\n",
      "DOS_HEADER.e_ss                                6578 non-null int64\n",
      "DOS_HEADER.e_sp                                6578 non-null int64\n",
      "DOS_HEADER.e_csum                              6578 non-null int64\n",
      "DOS_HEADER.e_ip                                6578 non-null int64\n",
      "DOS_HEADER.e_cs                                6578 non-null int64\n",
      "DOS_HEADER.e_lfarlc                            6578 non-null int64\n",
      "DOS_HEADER.e_ovno                              6578 non-null int64\n",
      "DOS_HEADER.e_oemid                             6578 non-null int64\n",
      "DOS_HEADER.e_oeminfo                           6578 non-null int64\n",
      "DOS_HEADER.e_lfanew                            6578 non-null int64\n",
      "FILE_HEADER.Machine                            6578 non-null int64\n",
      "FILE_HEADER.NumberOfSections                   6578 non-null int64\n",
      "FILE_HEADER.TimeDateStamp                      6578 non-null int64\n",
      "FILE_HEADER.PointerToSymbolTable               6578 non-null int64\n",
      "FILE_HEADER.NumberOfSymbols                    6578 non-null int64\n",
      "FILE_HEADER.SizeOfOptionalHeader               6578 non-null int64\n",
      "FILE_HEADER.Characteristics                    6578 non-null int64\n",
      "OPTIONAL_HEADER.MajorLinkerVersion             6578 non-null int64\n",
      "OPTIONAL_HEADER.MinorLinkerVersion             6578 non-null int64\n",
      "OPTIONAL_HEADER.SizeOfCode                     6578 non-null int64\n",
      "OPTIONAL_HEADER.SizeOfInitializedData          6578 non-null int64\n",
      "OPTIONAL_HEADER.SizeOfUninitializedData        6578 non-null int64\n",
      "OPTIONAL_HEADER.AddressOfEntryPoint            6578 non-null int64\n",
      "OPTIONAL_HEADER.BaseOfCode                     6578 non-null int64\n",
      "OPTIONAL_HEADER.BaseOfData                     3598 non-null float64\n",
      "OPTIONAL_HEADER.ImageBase                      6578 non-null object\n",
      "OPTIONAL_HEADER.SectionAlignment               6578 non-null int64\n",
      "OPTIONAL_HEADER.FileAlignment                  6578 non-null int64\n",
      "OPTIONAL_HEADER.MajorOperatingSystemVersion    6578 non-null int64\n",
      "OPTIONAL_HEADER.MinorOperatingSystemVersion    6578 non-null int64\n",
      "OPTIONAL_HEADER.MajorImageVersion              6578 non-null int64\n",
      "OPTIONAL_HEADER.MinorImageVersion              6578 non-null int64\n",
      "OPTIONAL_HEADER.MajorSubsystemVersion          6578 non-null int64\n",
      "OPTIONAL_HEADER.MinorSubsystemVersion          6578 non-null int64\n",
      "OPTIONAL_HEADER.Reserved1                      6578 non-null int64\n",
      "OPTIONAL_HEADER.SizeOfImage                    6578 non-null int64\n",
      "OPTIONAL_HEADER.SizeOfHeaders                  6578 non-null int64\n",
      "OPTIONAL_HEADER.CheckSum                       6578 non-null int64\n",
      "OPTIONAL_HEADER.Subsystem                      6578 non-null int64\n",
      "OPTIONAL_HEADER.DllCharacteristics             6578 non-null int64\n",
      "OPTIONAL_HEADER.SizeOfStackReserve             6578 non-null int64\n",
      "OPTIONAL_HEADER.SizeOfStackCommit              6578 non-null int64\n",
      "OPTIONAL_HEADER.SizeOfHeapReserve              6578 non-null int64\n",
      "OPTIONAL_HEADER.SizeOfHeapCommit               6578 non-null int64\n",
      "OPTIONAL_HEADER.LoaderFlags                    6578 non-null int64\n",
      "OPTIONAL_HEADER.NumberOfRvaAndSizes            6578 non-null int64\n",
      "Malicious                                      6578 non-null int64\n",
      "dtypes: float64(1), int64(52), object(2)\n",
      "memory usage: 2.8+ MB\n"
     ]
    }
   ],
   "source": [
    "data.info()"
   ]
  },
  {
   "cell_type": "code",
   "execution_count": 10,
   "metadata": {
    "collapsed": false
   },
   "outputs": [
    {
     "data": {
      "text/plain": [
       "FileName                                          0\n",
       "DOS_HEADER.e_magic                                0\n",
       "DOS_HEADER.e_cblp                                 0\n",
       "DOS_HEADER.e_cp                                   0\n",
       "DOS_HEADER.e_crlc                                 0\n",
       "DOS_HEADER.e_cparhdr                              0\n",
       "DOS_HEADER.e_minalloc                             0\n",
       "DOS_HEADER.e_maxalloc                             0\n",
       "DOS_HEADER.e_ss                                   0\n",
       "DOS_HEADER.e_sp                                   0\n",
       "DOS_HEADER.e_csum                                 0\n",
       "DOS_HEADER.e_ip                                   0\n",
       "DOS_HEADER.e_cs                                   0\n",
       "DOS_HEADER.e_lfarlc                               0\n",
       "DOS_HEADER.e_ovno                                 0\n",
       "DOS_HEADER.e_oemid                                0\n",
       "DOS_HEADER.e_oeminfo                              0\n",
       "DOS_HEADER.e_lfanew                               0\n",
       "FILE_HEADER.Machine                               0\n",
       "FILE_HEADER.NumberOfSections                      0\n",
       "FILE_HEADER.TimeDateStamp                         0\n",
       "FILE_HEADER.PointerToSymbolTable                  0\n",
       "FILE_HEADER.NumberOfSymbols                       0\n",
       "FILE_HEADER.SizeOfOptionalHeader                  0\n",
       "FILE_HEADER.Characteristics                       0\n",
       "OPTIONAL_HEADER.MajorLinkerVersion                0\n",
       "OPTIONAL_HEADER.MinorLinkerVersion                0\n",
       "OPTIONAL_HEADER.SizeOfCode                        0\n",
       "OPTIONAL_HEADER.SizeOfInitializedData             0\n",
       "OPTIONAL_HEADER.SizeOfUninitializedData           0\n",
       "OPTIONAL_HEADER.AddressOfEntryPoint               0\n",
       "OPTIONAL_HEADER.BaseOfCode                        0\n",
       "OPTIONAL_HEADER.BaseOfData                     2980\n",
       "OPTIONAL_HEADER.ImageBase                         0\n",
       "OPTIONAL_HEADER.SectionAlignment                  0\n",
       "OPTIONAL_HEADER.FileAlignment                     0\n",
       "OPTIONAL_HEADER.MajorOperatingSystemVersion       0\n",
       "OPTIONAL_HEADER.MinorOperatingSystemVersion       0\n",
       "OPTIONAL_HEADER.MajorImageVersion                 0\n",
       "OPTIONAL_HEADER.MinorImageVersion                 0\n",
       "OPTIONAL_HEADER.MajorSubsystemVersion             0\n",
       "OPTIONAL_HEADER.MinorSubsystemVersion             0\n",
       "OPTIONAL_HEADER.Reserved1                         0\n",
       "OPTIONAL_HEADER.SizeOfImage                       0\n",
       "OPTIONAL_HEADER.SizeOfHeaders                     0\n",
       "OPTIONAL_HEADER.CheckSum                          0\n",
       "OPTIONAL_HEADER.Subsystem                         0\n",
       "OPTIONAL_HEADER.DllCharacteristics                0\n",
       "OPTIONAL_HEADER.SizeOfStackReserve                0\n",
       "OPTIONAL_HEADER.SizeOfStackCommit                 0\n",
       "OPTIONAL_HEADER.SizeOfHeapReserve                 0\n",
       "OPTIONAL_HEADER.SizeOfHeapCommit                  0\n",
       "OPTIONAL_HEADER.LoaderFlags                       0\n",
       "OPTIONAL_HEADER.NumberOfRvaAndSizes               0\n",
       "Malicious                                         0\n",
       "dtype: int64"
      ]
     },
     "execution_count": 10,
     "metadata": {},
     "output_type": "execute_result"
    }
   ],
   "source": [
    "data.isnull().sum()"
   ]
  },
  {
   "cell_type": "code",
   "execution_count": 11,
   "metadata": {
    "collapsed": true
   },
   "outputs": [],
   "source": [
    "data.to_csv(\"pe_header_allfiles.csv\")"
   ]
  },
  {
   "cell_type": "code",
   "execution_count": null,
   "metadata": {
    "collapsed": true
   },
   "outputs": [],
   "source": []
  }
 ],
 "metadata": {
  "kernelspec": {
   "display_name": "Python [conda root]",
   "language": "python",
   "name": "conda-root-py"
  },
  "language_info": {
   "codemirror_mode": {
    "name": "ipython",
    "version": 3
   },
   "file_extension": ".py",
   "mimetype": "text/x-python",
   "name": "python",
   "nbconvert_exporter": "python",
   "pygments_lexer": "ipython3",
   "version": "3.5.2"
  }
 },
 "nbformat": 4,
 "nbformat_minor": 1
}
