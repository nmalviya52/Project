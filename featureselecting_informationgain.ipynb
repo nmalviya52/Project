{
 "cells": [
  {
   "cell_type": "code",
   "execution_count": 1,
   "metadata": {
    "collapsed": true
   },
   "outputs": [],
   "source": [
    "import pefile\n",
    "import glob\n",
    "import csv\n",
    "import os\n",
    "import numpy as np\n",
    "import pandas as pd\n",
    "from sklearn.feature_selection import mutual_info_classif"
   ]
  },
  {
   "cell_type": "code",
   "execution_count": 2,
   "metadata": {
    "collapsed": false
   },
   "outputs": [
    {
     "name": "stderr",
     "output_type": "stream",
     "text": [
      "/home/naresh/anaconda/lib/python3.5/site-packages/IPython/core/interactiveshell.py:2717: DtypeWarning: Columns (1050) have mixed types. Specify dtype option on import or set low_memory=False.\n",
      "  interactivity=interactivity, compiler=compiler, result=result)\n"
     ]
    }
   ],
   "source": [
    "data=pd.read_csv(\"/home/naresh/Downloads/Project/Project/data_training.csv\")"
   ]
  },
  {
   "cell_type": "code",
   "execution_count": 3,
   "metadata": {
    "collapsed": false
   },
   "outputs": [
    {
     "data": {
      "text/html": [
       "<div>\n",
       "<table border=\"1\" class=\"dataframe\">\n",
       "  <thead>\n",
       "    <tr style=\"text-align: right;\">\n",
       "      <th></th>\n",
       "      <th>FileName</th>\n",
       "      <th>Malicious</th>\n",
       "      <th>audioeng.dll</th>\n",
       "      <th>UFAT.dll</th>\n",
       "      <th>AdobeLinguistic.dll</th>\n",
       "      <th>TextInputFramework.dll</th>\n",
       "      <th>api-ms-win-shcore-obsolete-l1-1-0.dll</th>\n",
       "      <th>api-ms-win-rtcore-ntuser-wmpointer-l1-1-3.dll</th>\n",
       "      <th>Wcmsvc.dll</th>\n",
       "      <th>QUARTZ.dll</th>\n",
       "      <th>...</th>\n",
       "      <th>RCClass_AddMethodQualifierArray</th>\n",
       "      <th>ObjectStublessClient3</th>\n",
       "      <th>TakeOwnershipOnFolder</th>\n",
       "      <th>FwpiVpnTriggerAddSecurityDescriptor</th>\n",
       "      <th>WTSSendMessageW</th>\n",
       "      <th>NetSetupGetObjectProperties</th>\n",
       "      <th>?Push@INTSTACK@@QEAAEVBIG_INT@@@Z</th>\n",
       "      <th>PerfQueryCounterSetRegistrationInfo</th>\n",
       "      <th>??1?$basic_string@GU?$char_traits@G@std@@V?$STLAllocator@G@SmallBlockAllocator@utility@dvacore@@@std@@QAE@XZ</th>\n",
       "      <th>?getloc@?$basic_streambuf@DU?$char_traits@D@std@@@std@@QEBA?AVlocale@2@XZ</th>\n",
       "    </tr>\n",
       "  </thead>\n",
       "  <tbody>\n",
       "    <tr>\n",
       "      <th>0</th>\n",
       "      <td>/home/naresh/Downloads/Project/Virus.Win/Virus...</td>\n",
       "      <td>1</td>\n",
       "      <td>0</td>\n",
       "      <td>0</td>\n",
       "      <td>0</td>\n",
       "      <td>0</td>\n",
       "      <td>0</td>\n",
       "      <td>0</td>\n",
       "      <td>0</td>\n",
       "      <td>0</td>\n",
       "      <td>...</td>\n",
       "      <td>0</td>\n",
       "      <td>0</td>\n",
       "      <td>0</td>\n",
       "      <td>0</td>\n",
       "      <td>0</td>\n",
       "      <td>0</td>\n",
       "      <td>0</td>\n",
       "      <td>0</td>\n",
       "      <td>0</td>\n",
       "      <td>0</td>\n",
       "    </tr>\n",
       "    <tr>\n",
       "      <th>1</th>\n",
       "      <td>/home/naresh/Downloads/Project/Virus.Win/Virus...</td>\n",
       "      <td>1</td>\n",
       "      <td>0</td>\n",
       "      <td>0</td>\n",
       "      <td>0</td>\n",
       "      <td>0</td>\n",
       "      <td>0</td>\n",
       "      <td>0</td>\n",
       "      <td>0</td>\n",
       "      <td>0</td>\n",
       "      <td>...</td>\n",
       "      <td>0</td>\n",
       "      <td>0</td>\n",
       "      <td>0</td>\n",
       "      <td>0</td>\n",
       "      <td>0</td>\n",
       "      <td>0</td>\n",
       "      <td>0</td>\n",
       "      <td>0</td>\n",
       "      <td>0</td>\n",
       "      <td>0</td>\n",
       "    </tr>\n",
       "    <tr>\n",
       "      <th>2</th>\n",
       "      <td>/home/naresh/Downloads/Project/Virus.Win/Virus...</td>\n",
       "      <td>1</td>\n",
       "      <td>0</td>\n",
       "      <td>0</td>\n",
       "      <td>0</td>\n",
       "      <td>0</td>\n",
       "      <td>0</td>\n",
       "      <td>0</td>\n",
       "      <td>0</td>\n",
       "      <td>0</td>\n",
       "      <td>...</td>\n",
       "      <td>0</td>\n",
       "      <td>0</td>\n",
       "      <td>0</td>\n",
       "      <td>0</td>\n",
       "      <td>0</td>\n",
       "      <td>0</td>\n",
       "      <td>0</td>\n",
       "      <td>0</td>\n",
       "      <td>0</td>\n",
       "      <td>0</td>\n",
       "    </tr>\n",
       "    <tr>\n",
       "      <th>3</th>\n",
       "      <td>/home/naresh/Downloads/Project/Virus.Win/Virus...</td>\n",
       "      <td>1</td>\n",
       "      <td>0</td>\n",
       "      <td>0</td>\n",
       "      <td>0</td>\n",
       "      <td>0</td>\n",
       "      <td>0</td>\n",
       "      <td>0</td>\n",
       "      <td>0</td>\n",
       "      <td>0</td>\n",
       "      <td>...</td>\n",
       "      <td>0</td>\n",
       "      <td>0</td>\n",
       "      <td>0</td>\n",
       "      <td>0</td>\n",
       "      <td>0</td>\n",
       "      <td>0</td>\n",
       "      <td>0</td>\n",
       "      <td>0</td>\n",
       "      <td>0</td>\n",
       "      <td>0</td>\n",
       "    </tr>\n",
       "    <tr>\n",
       "      <th>4</th>\n",
       "      <td>/home/naresh/Downloads/Project/Virus.Win/Virus...</td>\n",
       "      <td>1</td>\n",
       "      <td>0</td>\n",
       "      <td>0</td>\n",
       "      <td>0</td>\n",
       "      <td>0</td>\n",
       "      <td>0</td>\n",
       "      <td>0</td>\n",
       "      <td>0</td>\n",
       "      <td>0</td>\n",
       "      <td>...</td>\n",
       "      <td>0</td>\n",
       "      <td>0</td>\n",
       "      <td>0</td>\n",
       "      <td>0</td>\n",
       "      <td>0</td>\n",
       "      <td>0</td>\n",
       "      <td>0</td>\n",
       "      <td>0</td>\n",
       "      <td>0</td>\n",
       "      <td>0</td>\n",
       "    </tr>\n",
       "  </tbody>\n",
       "</table>\n",
       "<p>5 rows × 23273 columns</p>\n",
       "</div>"
      ],
      "text/plain": [
       "                                            FileName  Malicious  audioeng.dll  \\\n",
       "0  /home/naresh/Downloads/Project/Virus.Win/Virus...          1             0   \n",
       "1  /home/naresh/Downloads/Project/Virus.Win/Virus...          1             0   \n",
       "2  /home/naresh/Downloads/Project/Virus.Win/Virus...          1             0   \n",
       "3  /home/naresh/Downloads/Project/Virus.Win/Virus...          1             0   \n",
       "4  /home/naresh/Downloads/Project/Virus.Win/Virus...          1             0   \n",
       "\n",
       "   UFAT.dll  AdobeLinguistic.dll  TextInputFramework.dll  \\\n",
       "0         0                    0                       0   \n",
       "1         0                    0                       0   \n",
       "2         0                    0                       0   \n",
       "3         0                    0                       0   \n",
       "4         0                    0                       0   \n",
       "\n",
       "   api-ms-win-shcore-obsolete-l1-1-0.dll  \\\n",
       "0                                      0   \n",
       "1                                      0   \n",
       "2                                      0   \n",
       "3                                      0   \n",
       "4                                      0   \n",
       "\n",
       "   api-ms-win-rtcore-ntuser-wmpointer-l1-1-3.dll  Wcmsvc.dll  QUARTZ.dll  \\\n",
       "0                                              0           0           0   \n",
       "1                                              0           0           0   \n",
       "2                                              0           0           0   \n",
       "3                                              0           0           0   \n",
       "4                                              0           0           0   \n",
       "\n",
       "                                     ...                                      \\\n",
       "0                                    ...                                       \n",
       "1                                    ...                                       \n",
       "2                                    ...                                       \n",
       "3                                    ...                                       \n",
       "4                                    ...                                       \n",
       "\n",
       "   RCClass_AddMethodQualifierArray  ObjectStublessClient3  \\\n",
       "0                                0                      0   \n",
       "1                                0                      0   \n",
       "2                                0                      0   \n",
       "3                                0                      0   \n",
       "4                                0                      0   \n",
       "\n",
       "   TakeOwnershipOnFolder  FwpiVpnTriggerAddSecurityDescriptor  \\\n",
       "0                      0                                    0   \n",
       "1                      0                                    0   \n",
       "2                      0                                    0   \n",
       "3                      0                                    0   \n",
       "4                      0                                    0   \n",
       "\n",
       "   WTSSendMessageW  NetSetupGetObjectProperties  \\\n",
       "0                0                            0   \n",
       "1                0                            0   \n",
       "2                0                            0   \n",
       "3                0                            0   \n",
       "4                0                            0   \n",
       "\n",
       "   ?Push@INTSTACK@@QEAAEVBIG_INT@@@Z  PerfQueryCounterSetRegistrationInfo  \\\n",
       "0                                  0                                    0   \n",
       "1                                  0                                    0   \n",
       "2                                  0                                    0   \n",
       "3                                  0                                    0   \n",
       "4                                  0                                    0   \n",
       "\n",
       "   ??1?$basic_string@GU?$char_traits@G@std@@V?$STLAllocator@G@SmallBlockAllocator@utility@dvacore@@@std@@QAE@XZ  \\\n",
       "0                                                  0                                                              \n",
       "1                                                  0                                                              \n",
       "2                                                  0                                                              \n",
       "3                                                  0                                                              \n",
       "4                                                  0                                                              \n",
       "\n",
       "   ?getloc@?$basic_streambuf@DU?$char_traits@D@std@@@std@@QEBA?AVlocale@2@XZ  \n",
       "0                                                  0                          \n",
       "1                                                  0                          \n",
       "2                                                  0                          \n",
       "3                                                  0                          \n",
       "4                                                  0                          \n",
       "\n",
       "[5 rows x 23273 columns]"
      ]
     },
     "execution_count": 3,
     "metadata": {},
     "output_type": "execute_result"
    }
   ],
   "source": [
    "data.head()"
   ]
  },
  {
   "cell_type": "code",
   "execution_count": 15,
   "metadata": {
    "collapsed": true
   },
   "outputs": [],
   "source": [
    "X=data.values[:,2:]"
   ]
  },
  {
   "cell_type": "code",
   "execution_count": 16,
   "metadata": {
    "collapsed": true
   },
   "outputs": [],
   "source": [
    "Y=data.values[:,1]"
   ]
  },
  {
   "cell_type": "code",
   "execution_count": 17,
   "metadata": {
    "collapsed": true
   },
   "outputs": [],
   "source": [
    "Y = Y.ravel()\n",
    "Y = np.array(Y).astype(int)"
   ]
  },
  {
   "cell_type": "code",
   "execution_count": 18,
   "metadata": {
    "collapsed": false
   },
   "outputs": [
    {
     "data": {
      "text/plain": [
       "(3137, 23271)"
      ]
     },
     "execution_count": 18,
     "metadata": {},
     "output_type": "execute_result"
    }
   ],
   "source": [
    "X.shape"
   ]
  },
  {
   "cell_type": "code",
   "execution_count": 19,
   "metadata": {
    "collapsed": false
   },
   "outputs": [
    {
     "data": {
      "text/plain": [
       "(3137,)"
      ]
     },
     "execution_count": 19,
     "metadata": {},
     "output_type": "execute_result"
    }
   ],
   "source": [
    "Y.shape"
   ]
  },
  {
   "cell_type": "code",
   "execution_count": 20,
   "metadata": {
    "collapsed": true
   },
   "outputs": [],
   "source": [
    "Y=Y.reshape(-1,1)"
   ]
  },
  {
   "cell_type": "code",
   "execution_count": 21,
   "metadata": {
    "collapsed": false
   },
   "outputs": [
    {
     "data": {
      "text/plain": [
       "(3137, 1)"
      ]
     },
     "execution_count": 21,
     "metadata": {},
     "output_type": "execute_result"
    }
   ],
   "source": [
    "Y.shape"
   ]
  },
  {
   "cell_type": "code",
   "execution_count": 12,
   "metadata": {
    "collapsed": false
   },
   "outputs": [
    {
     "data": {
      "text/plain": [
       "FileName                                                                                                        0\n",
       "Malicious                                                                                                       0\n",
       "audioeng.dll                                                                                                    0\n",
       "UFAT.dll                                                                                                        0\n",
       "AdobeLinguistic.dll                                                                                             0\n",
       "TextInputFramework.dll                                                                                          0\n",
       "api-ms-win-shcore-obsolete-l1-1-0.dll                                                                           0\n",
       "api-ms-win-rtcore-ntuser-wmpointer-l1-1-3.dll                                                                   0\n",
       "Wcmsvc.dll                                                                                                      0\n",
       "QUARTZ.dll                                                                                                      0\n",
       "CSRSRV.dll                                                                                                      0\n",
       "api-ms-win-shlwapi-winrt-storage-l1-1-1.dll                                                                     0\n",
       "ext-ms-win-ntuser-window-l1-1-1.dll                                                                             0\n",
       "WsmSvc.DLL                                                                                                      0\n",
       "api-ms-win-security-capability-l1-1-0.dll                                                                       0\n",
       "DDRAW.dll                                                                                                       0\n",
       "api-ms-win-core-namedpipe-l1-2-2.dll                                                                            0\n",
       "api-ms-win-core-job-l2-1-0.dll                                                                                  0\n",
       "api-ms-win-service-core-l1-1-1.dll                                                                              0\n",
       "api-ms-win-perf-legacy-l1-1-0.dll                                                                               0\n",
       "api-ms-win-core-sysinfo-l1-2-1.dll                                                                              0\n",
       "api-ms-win-core-perfcounters-l1-1-0.dll                                                                         0\n",
       "CLIPC.dll                                                                                                       0\n",
       "SCNPST64C.dll                                                                                                   0\n",
       "api-ms-win-gdi-dpiinfo-l1-1-0.dll                                                                               0\n",
       "BiWinrt.dll                                                                                                     0\n",
       "MSVCR90.dll                                                                                                     0\n",
       "WININET.DLL                                                                                                     0\n",
       "AUTHZ.dll                                                                                                       0\n",
       "CFGMGR32.dll                                                                                                    0\n",
       "                                                                                                               ..\n",
       "?size@PackageCatalog@ngeo@@QEBA_KXZ                                                                             0\n",
       "RtcPalInitializeSlimLock                                                                                        0\n",
       "GetIMSI                                                                                                         0\n",
       "alljoyn_sessionopts_destroy                                                                                     0\n",
       "BCryptFinalizeKeyPair                                                                                           0\n",
       "InternetGetConnectedStateExW                                                                                    0\n",
       "?AddRef@CUnk@@UEAAKXZ                                                                                           0\n",
       "DDMAdminPortReset                                                                                               0\n",
       "?OnWmSettingChanged@HWNDElement@DirectUI@@UAEXIJ@Z                                                              0\n",
       "@Fileintf@initialization$qqrv                                                                                   0\n",
       "WdiGetParameterData                                                                                             0\n",
       "libintl_textdomain                                                                                              0\n",
       "?fill@?$basic_ios@DU?$char_traits@D@std@@@std@@QBEDXZ                                                           0\n",
       "?get_minor_num@Version@ngeo@@QEBAIXZ                                                                            0\n",
       "OpenIcon                                                                                                        0\n",
       "?GetActivationFactoryByPCWSTR@@YAJPEAXAEAVGuid@Platform@@PEAPEAX@Z                                              0\n",
       "_o__wtof                                                                                                        0\n",
       "?SetYOffset@BaseScrollViewer@DirectUI@@QEAAJH@Z                                                                 0\n",
       "@Winlist@GetIDEWindowList$qqruip16Classes@TStringso                                                             0\n",
       "??1SoftwareSurface@ngeo@@UEAA@XZ                                                                                0\n",
       "RCClass_AddMethodQualifierArray                                                                                 0\n",
       "ObjectStublessClient3                                                                                           0\n",
       "TakeOwnershipOnFolder                                                                                           0\n",
       "FwpiVpnTriggerAddSecurityDescriptor                                                                             0\n",
       "WTSSendMessageW                                                                                                 0\n",
       "NetSetupGetObjectProperties                                                                                     0\n",
       "?Push@INTSTACK@@QEAAEVBIG_INT@@@Z                                                                               0\n",
       "PerfQueryCounterSetRegistrationInfo                                                                             0\n",
       "??1?$basic_string@GU?$char_traits@G@std@@V?$STLAllocator@G@SmallBlockAllocator@utility@dvacore@@@std@@QAE@XZ    0\n",
       "?getloc@?$basic_streambuf@DU?$char_traits@D@std@@@std@@QEBA?AVlocale@2@XZ                                       0\n",
       "dtype: int64"
      ]
     },
     "execution_count": 12,
     "metadata": {},
     "output_type": "execute_result"
    }
   ],
   "source": [
    "data.isnull().sum()"
   ]
  },
  {
   "cell_type": "code",
   "execution_count": 13,
   "metadata": {
    "collapsed": true
   },
   "outputs": [],
   "source": [
    "data['OPTIONAL_HEADER.BaseOfData']=data['OPTIONAL_HEADER.BaseOfData'].fillna(data['OPTIONAL_HEADER.BaseOfData'].median())"
   ]
  },
  {
   "cell_type": "code",
   "execution_count": 22,
   "metadata": {
    "collapsed": false
   },
   "outputs": [
    {
     "name": "stderr",
     "output_type": "stream",
     "text": [
      "/home/naresh/.local/lib/python3.5/site-packages/sklearn/utils/validation.py:578: DataConversionWarning: A column-vector y was passed when a 1d array was expected. Please change the shape of y to (n_samples, ), for example using ravel().\n",
      "  y = column_or_1d(y, warn=True)\n"
     ]
    }
   ],
   "source": [
    "result=mutual_info_classif(X,Y,discrete_features=True)"
   ]
  },
  {
   "cell_type": "code",
   "execution_count": 23,
   "metadata": {
    "collapsed": false
   },
   "outputs": [
    {
     "data": {
      "text/plain": [
       "array([ 0.00039226,  0.00019609,  0.00019609, ...,  0.00019609,\n",
       "        0.00039226,  0.00019609])"
      ]
     },
     "execution_count": 23,
     "metadata": {},
     "output_type": "execute_result"
    }
   ],
   "source": [
    "result"
   ]
  },
  {
   "cell_type": "code",
   "execution_count": 24,
   "metadata": {
    "collapsed": false
   },
   "outputs": [
    {
     "data": {
      "text/plain": [
       "23271"
      ]
     },
     "execution_count": 24,
     "metadata": {},
     "output_type": "execute_result"
    }
   ],
   "source": [
    "len(result)"
   ]
  },
  {
   "cell_type": "code",
   "execution_count": 25,
   "metadata": {
    "collapsed": true
   },
   "outputs": [],
   "source": [
    "feature=data.columns"
   ]
  },
  {
   "cell_type": "code",
   "execution_count": 26,
   "metadata": {
    "collapsed": true
   },
   "outputs": [],
   "source": [
    "feature=feature[2:]"
   ]
  },
  {
   "cell_type": "code",
   "execution_count": 27,
   "metadata": {
    "collapsed": false
   },
   "outputs": [
    {
     "data": {
      "text/plain": [
       "23271"
      ]
     },
     "execution_count": 27,
     "metadata": {},
     "output_type": "execute_result"
    }
   ],
   "source": [
    "len(feature)"
   ]
  },
  {
   "cell_type": "code",
   "execution_count": 28,
   "metadata": {
    "collapsed": false
   },
   "outputs": [
    {
     "data": {
      "text/plain": [
       "Index(['audioeng.dll', 'UFAT.dll', 'AdobeLinguistic.dll',\n",
       "       'TextInputFramework.dll', 'api-ms-win-shcore-obsolete-l1-1-0.dll',\n",
       "       'api-ms-win-rtcore-ntuser-wmpointer-l1-1-3.dll', 'Wcmsvc.dll',\n",
       "       'QUARTZ.dll', 'CSRSRV.dll',\n",
       "       'api-ms-win-shlwapi-winrt-storage-l1-1-1.dll',\n",
       "       ...\n",
       "       'RCClass_AddMethodQualifierArray', 'ObjectStublessClient3',\n",
       "       'TakeOwnershipOnFolder', 'FwpiVpnTriggerAddSecurityDescriptor',\n",
       "       'WTSSendMessageW', 'NetSetupGetObjectProperties',\n",
       "       '?Push@INTSTACK@@QEAAEVBIG_INT@@@Z',\n",
       "       'PerfQueryCounterSetRegistrationInfo',\n",
       "       '??1?$basic_string@GU?$char_traits@G@std@@V?$STLAllocator@G@SmallBlockAllocator@utility@dvacore@@@std@@QAE@XZ',\n",
       "       '?getloc@?$basic_streambuf@DU?$char_traits@D@std@@@std@@QEBA?AVlocale@2@XZ'],\n",
       "      dtype='object', length=23271)"
      ]
     },
     "execution_count": 28,
     "metadata": {},
     "output_type": "execute_result"
    }
   ],
   "source": [
    "feature"
   ]
  },
  {
   "cell_type": "code",
   "execution_count": 29,
   "metadata": {
    "collapsed": true
   },
   "outputs": [],
   "source": [
    "result_df = pd.DataFrame(\n",
    "    {'Features':feature,\n",
    "     'Informationgain':result\n",
    "    })"
   ]
  },
  {
   "cell_type": "code",
   "execution_count": 31,
   "metadata": {
    "collapsed": false
   },
   "outputs": [
    {
     "data": {
      "text/html": [
       "<div>\n",
       "<table border=\"1\" class=\"dataframe\">\n",
       "  <thead>\n",
       "    <tr style=\"text-align: right;\">\n",
       "      <th></th>\n",
       "      <th>Features</th>\n",
       "      <th>Informationgain</th>\n",
       "    </tr>\n",
       "  </thead>\n",
       "  <tbody>\n",
       "    <tr>\n",
       "      <th>0</th>\n",
       "      <td>audioeng.dll</td>\n",
       "      <td>0.000392</td>\n",
       "    </tr>\n",
       "    <tr>\n",
       "      <th>1</th>\n",
       "      <td>UFAT.dll</td>\n",
       "      <td>0.000196</td>\n",
       "    </tr>\n",
       "    <tr>\n",
       "      <th>2</th>\n",
       "      <td>AdobeLinguistic.dll</td>\n",
       "      <td>0.000196</td>\n",
       "    </tr>\n",
       "    <tr>\n",
       "      <th>3</th>\n",
       "      <td>TextInputFramework.dll</td>\n",
       "      <td>0.000196</td>\n",
       "    </tr>\n",
       "    <tr>\n",
       "      <th>4</th>\n",
       "      <td>api-ms-win-shcore-obsolete-l1-1-0.dll</td>\n",
       "      <td>0.003345</td>\n",
       "    </tr>\n",
       "  </tbody>\n",
       "</table>\n",
       "</div>"
      ],
      "text/plain": [
       "                                Features  Informationgain\n",
       "0                           audioeng.dll         0.000392\n",
       "1                               UFAT.dll         0.000196\n",
       "2                    AdobeLinguistic.dll         0.000196\n",
       "3                 TextInputFramework.dll         0.000196\n",
       "4  api-ms-win-shcore-obsolete-l1-1-0.dll         0.003345"
      ]
     },
     "execution_count": 31,
     "metadata": {},
     "output_type": "execute_result"
    }
   ],
   "source": [
    "result_df.head()"
   ]
  },
  {
   "cell_type": "code",
   "execution_count": 34,
   "metadata": {
    "collapsed": false
   },
   "outputs": [
    {
     "data": {
      "text/plain": [
       "172"
      ]
     },
     "execution_count": 34,
     "metadata": {},
     "output_type": "execute_result"
    }
   ],
   "source": [
    "len(result_df[result_df['Informationgain']>0.05])"
   ]
  },
  {
   "cell_type": "code",
   "execution_count": 35,
   "metadata": {
    "collapsed": true
   },
   "outputs": [],
   "source": [
    "reduced_feature=result_df[result_df['Informationgain']>0.05]"
   ]
  },
  {
   "cell_type": "code",
   "execution_count": 36,
   "metadata": {
    "collapsed": true
   },
   "outputs": [],
   "source": [
    "result_df.to_csv(\"FeatureswithInformationGain.csv\",index=False)"
   ]
  },
  {
   "cell_type": "code",
   "execution_count": 37,
   "metadata": {
    "collapsed": false
   },
   "outputs": [
    {
     "name": "stdout",
     "output_type": "stream",
     "text": [
      "<class 'pandas.core.frame.DataFrame'>\n",
      "Int64Index: 172 entries, 18 to 23133\n",
      "Data columns (total 2 columns):\n",
      "Features           172 non-null object\n",
      "Informationgain    172 non-null float64\n",
      "dtypes: float64(1), object(1)\n",
      "memory usage: 4.0+ KB\n"
     ]
    }
   ],
   "source": [
    "reduced_feature.info()"
   ]
  },
  {
   "cell_type": "code",
   "execution_count": 38,
   "metadata": {
    "collapsed": false
   },
   "outputs": [
    {
     "data": {
      "text/html": [
       "<div>\n",
       "<table border=\"1\" class=\"dataframe\">\n",
       "  <thead>\n",
       "    <tr style=\"text-align: right;\">\n",
       "      <th></th>\n",
       "      <th>Features</th>\n",
       "      <th>Informationgain</th>\n",
       "    </tr>\n",
       "  </thead>\n",
       "  <tbody>\n",
       "    <tr>\n",
       "      <th>18</th>\n",
       "      <td>api-ms-win-core-sysinfo-l1-2-1.dll</td>\n",
       "      <td>0.238669</td>\n",
       "    </tr>\n",
       "    <tr>\n",
       "      <th>37</th>\n",
       "      <td>api-ms-win-core-processthreads-l1-1-2.dll</td>\n",
       "      <td>0.241739</td>\n",
       "    </tr>\n",
       "    <tr>\n",
       "      <th>48</th>\n",
       "      <td>api-ms-win-security-base-l1-2-0.dll</td>\n",
       "      <td>0.081560</td>\n",
       "    </tr>\n",
       "    <tr>\n",
       "      <th>62</th>\n",
       "      <td>api-ms-win-core-handle-l1-1-0.dll</td>\n",
       "      <td>0.169265</td>\n",
       "    </tr>\n",
       "    <tr>\n",
       "      <th>63</th>\n",
       "      <td>api-ms-win-eventing-provider-l1-1-0.dll</td>\n",
       "      <td>0.090852</td>\n",
       "    </tr>\n",
       "  </tbody>\n",
       "</table>\n",
       "</div>"
      ],
      "text/plain": [
       "                                     Features  Informationgain\n",
       "18         api-ms-win-core-sysinfo-l1-2-1.dll         0.238669\n",
       "37  api-ms-win-core-processthreads-l1-1-2.dll         0.241739\n",
       "48        api-ms-win-security-base-l1-2-0.dll         0.081560\n",
       "62          api-ms-win-core-handle-l1-1-0.dll         0.169265\n",
       "63    api-ms-win-eventing-provider-l1-1-0.dll         0.090852"
      ]
     },
     "execution_count": 38,
     "metadata": {},
     "output_type": "execute_result"
    }
   ],
   "source": [
    "reduced_feature.head()"
   ]
  },
  {
   "cell_type": "code",
   "execution_count": 39,
   "metadata": {
    "collapsed": true
   },
   "outputs": [],
   "source": [
    "featureslist=reduced_feature.values[:,0]"
   ]
  },
  {
   "cell_type": "code",
   "execution_count": 40,
   "metadata": {
    "collapsed": false
   },
   "outputs": [
    {
     "data": {
      "text/plain": [
       "array(['api-ms-win-core-sysinfo-l1-2-1.dll',\n",
       "       'api-ms-win-core-processthreads-l1-1-2.dll',\n",
       "       'api-ms-win-security-base-l1-2-0.dll',\n",
       "       'api-ms-win-core-handle-l1-1-0.dll',\n",
       "       'api-ms-win-eventing-provider-l1-1-0.dll',\n",
       "       'api-ms-win-core-localization-l1-2-1.dll', 'OLEAUT32.dll',\n",
       "       'api-ms-win-core-profile-l1-1-0.dll',\n",
       "       'api-ms-win-core-delayload-l1-1-1.dll',\n",
       "       'api-ms-win-core-heap-l1-2-0.dll',\n",
       "       'api-ms-win-core-registry-l1-1-0.dll', 'kernel32.dll',\n",
       "       'api-ms-win-core-synch-l1-2-0.dll', 'user32.dll',\n",
       "       'api-ms-win-core-rtlsupport-l1-2-0.dll', 'ntdll.dll',\n",
       "       'api-ms-win-core-file-l1-2-1.dll', 'api-ms-win-core-com-l1-1-1.dll',\n",
       "       'KERNEL32.DLL', 'msvcrt.dll', 'api-ms-win-core-string-l1-1-0.dll',\n",
       "       'api-ms-win-core-debug-l1-1-1.dll',\n",
       "       'api-ms-win-core-libraryloader-l1-2-0.dll',\n",
       "       'api-ms-win-core-heap-l2-1-0.dll', 'RPCRT4.dll',\n",
       "       'api-ms-win-core-errorhandling-l1-1-1.dll', 'DOS_HEADER.e_cblp',\n",
       "       'DOS_HEADER.e_cp', 'DOS_HEADER.e_minalloc', 'DOS_HEADER.e_ovno',\n",
       "       'DOS_HEADER.e_lfanew', 'FILE_HEADER.Machine',\n",
       "       'FILE_HEADER.NumberOfSections', 'FILE_HEADER.TimeDateStamp',\n",
       "       'FILE_HEADER.SizeOfOptionalHeader', 'FILE_HEADER.Characteristics',\n",
       "       'OPTIONAL_HEADER.MajorLinkerVersion',\n",
       "       'OPTIONAL_HEADER.MinorLinkerVersion', 'OPTIONAL_HEADER.SizeOfCode',\n",
       "       'OPTIONAL_HEADER.SizeOfInitializedData',\n",
       "       'OPTIONAL_HEADER.AddressOfEntryPoint', 'OPTIONAL_HEADER.BaseOfCode',\n",
       "       'OPTIONAL_HEADER.BaseOfData', 'OPTIONAL_HEADER.ImageBase',\n",
       "       'OPTIONAL_HEADER.MajorOperatingSystemVersion',\n",
       "       'OPTIONAL_HEADER.MajorImageVersion',\n",
       "       'OPTIONAL_HEADER.MajorSubsystemVersion',\n",
       "       'OPTIONAL_HEADER.MinorSubsystemVersion',\n",
       "       'OPTIONAL_HEADER.SizeOfImage', 'OPTIONAL_HEADER.SizeOfHeaders',\n",
       "       'OPTIONAL_HEADER.CheckSum', 'OPTIONAL_HEADER.Subsystem',\n",
       "       'OPTIONAL_HEADER.DllCharacteristics',\n",
       "       'OPTIONAL_HEADER.SizeOfStackReserve',\n",
       "       'OPTIONAL_HEADER.SizeOfStackCommit', '__CxxFrameHandler3',\n",
       "       'TerminateProcess', 'GetLastError', 'LoadLibraryExW',\n",
       "       'RegSetValueExW', 'RtlLookupFunctionEntry', 'UnregisterTraceGuids',\n",
       "       'RegCreateKeyExW', 'memset', 'FindNextFileA',\n",
       "       'WaitForSingleObjectEx', 'EventRegister', 'OpenSemaphoreW',\n",
       "       'CopyFileA', '??1type_info@@UEAA@XZ', 'RegQueryInfoKeyW',\n",
       "       'CoTaskMemFree', 'CreateSemaphoreExW',\n",
       "       '??0exception@@QEAA@AEBV0@@Z', '_vsnwprintf', 'RegQueryValueExW',\n",
       "       'ReleaseSemaphore', 'wcschr', 'AcquireSRWLockShared',\n",
       "       'EncodePointer', 'free', '?what@exception@@UEBAPEBDXZ',\n",
       "       'RegDeleteValueW', 'CoCreateInstance', 'DeleteCriticalSection',\n",
       "       'GetModuleHandleExW', '_errno', '_unlock', 'EventWriteTransfer',\n",
       "       'EventSetInformation', 'CreateMutexExW', 'memcmp',\n",
       "       'AcquireSRWLockExclusive', '_wcsnicmp', '_onexit',\n",
       "       'GetSystemTimeAsFileTime', 'memmove', 'GetCurrentThreadId',\n",
       "       'RtlCaptureContext', 'GetModuleHandleW', 'DecodePointer',\n",
       "       '_callnewh', 'CoInitializeEx', '__dllonexit',\n",
       "       '??0exception@@QEAA@XZ', 'QueryPerformanceCounter',\n",
       "       'OutputDebugStringW', '_wcsicmp', '??0exception@@QEAA@AEBQEBD@Z',\n",
       "       'GetTickCount', 'WaitForSingleObject', 'GetTraceLoggerHandle',\n",
       "       'ResolveDelayLoadedAPI', 'IsDebuggerPresent',\n",
       "       'DelayLoadFailureHook', 'GetCurrentThread',\n",
       "       'SetUnhandledExceptionFilter', 'RegOpenKeyExW',\n",
       "       'ReleaseSRWLockExclusive', 'realloc', 'GetTraceEnableLevel',\n",
       "       'lstrcpyA', '??3@YAXPEAX@Z', 'GetModuleFileNameW',\n",
       "       'RtlVirtualUnwind', 'wcscpy_s', 'EventWrite', 'ReleaseMutex',\n",
       "       'memcpy_s', '?terminate@@YAXXZ', '_CxxThrowException',\n",
       "       'SetLastError', 'GetProcessHeap', 'TraceMessage',\n",
       "       '??1exception@@UEAA@XZ', 'EventUnregister', 'CloseHandle',\n",
       "       'FindFirstFileA', 'malloc', 'SetEvent', 'GetCurrentProcessId',\n",
       "       '??0exception@@QEAA@AEBQEBDH@Z', 'GetModuleHandleA',\n",
       "       'EnterCriticalSection', '_purecall', 'LoadLibraryA', 'ExitProcess',\n",
       "       'FormatMessageW', 'HeapAlloc', 'CreateEventW', 'RegGetValueW',\n",
       "       'CoTaskMemAlloc', 'HeapFree', '_amsg_exit', 'LeaveCriticalSection',\n",
       "       '_initterm', 'CreateFileW', 'GetTraceEnableFlags', 'RegEnumKeyExW',\n",
       "       'Sleep', 'UnhandledExceptionFilter', 'GetCurrentProcess',\n",
       "       'GetCommandLineA', '_lock', 'GetStartupInfoA', 'memcpy',\n",
       "       'MessageBoxA', 'RtlNtStatusToDosError', 'DisableThreadLibraryCalls',\n",
       "       '__C_specific_handler', 'ReleaseSRWLockShared', '_XcptFilter'], dtype=object)"
      ]
     },
     "execution_count": 40,
     "metadata": {},
     "output_type": "execute_result"
    }
   ],
   "source": [
    "featureslist"
   ]
  },
  {
   "cell_type": "code",
   "execution_count": 41,
   "metadata": {
    "collapsed": true
   },
   "outputs": [],
   "source": [
    "featureslist_df=pd.DataFrame(featureslist)"
   ]
  },
  {
   "cell_type": "code",
   "execution_count": 42,
   "metadata": {
    "collapsed": false
   },
   "outputs": [
    {
     "data": {
      "text/html": [
       "<div>\n",
       "<table border=\"1\" class=\"dataframe\">\n",
       "  <thead>\n",
       "    <tr style=\"text-align: right;\">\n",
       "      <th></th>\n",
       "      <th>0</th>\n",
       "    </tr>\n",
       "  </thead>\n",
       "  <tbody>\n",
       "    <tr>\n",
       "      <th>0</th>\n",
       "      <td>api-ms-win-core-sysinfo-l1-2-1.dll</td>\n",
       "    </tr>\n",
       "    <tr>\n",
       "      <th>1</th>\n",
       "      <td>api-ms-win-core-processthreads-l1-1-2.dll</td>\n",
       "    </tr>\n",
       "    <tr>\n",
       "      <th>2</th>\n",
       "      <td>api-ms-win-security-base-l1-2-0.dll</td>\n",
       "    </tr>\n",
       "    <tr>\n",
       "      <th>3</th>\n",
       "      <td>api-ms-win-core-handle-l1-1-0.dll</td>\n",
       "    </tr>\n",
       "    <tr>\n",
       "      <th>4</th>\n",
       "      <td>api-ms-win-eventing-provider-l1-1-0.dll</td>\n",
       "    </tr>\n",
       "  </tbody>\n",
       "</table>\n",
       "</div>"
      ],
      "text/plain": [
       "                                           0\n",
       "0         api-ms-win-core-sysinfo-l1-2-1.dll\n",
       "1  api-ms-win-core-processthreads-l1-1-2.dll\n",
       "2        api-ms-win-security-base-l1-2-0.dll\n",
       "3          api-ms-win-core-handle-l1-1-0.dll\n",
       "4    api-ms-win-eventing-provider-l1-1-0.dll"
      ]
     },
     "execution_count": 42,
     "metadata": {},
     "output_type": "execute_result"
    }
   ],
   "source": [
    "featureslist_df.head()"
   ]
  },
  {
   "cell_type": "code",
   "execution_count": 43,
   "metadata": {
    "collapsed": true
   },
   "outputs": [],
   "source": [
    "featureslist_df.columns=['Features']"
   ]
  },
  {
   "cell_type": "code",
   "execution_count": 45,
   "metadata": {
    "collapsed": true
   },
   "outputs": [],
   "source": [
    "featureslist_df.to_csv(\"ReducedFeatureslist.csv\",index=False)"
   ]
  },
  {
   "cell_type": "code",
   "execution_count": 49,
   "metadata": {
    "collapsed": false
   },
   "outputs": [],
   "source": [
    "features_list=featureslist.tolist()"
   ]
  },
  {
   "cell_type": "code",
   "execution_count": 50,
   "metadata": {
    "collapsed": false
   },
   "outputs": [
    {
     "data": {
      "text/plain": [
       "['api-ms-win-core-sysinfo-l1-2-1.dll',\n",
       " 'api-ms-win-core-processthreads-l1-1-2.dll',\n",
       " 'api-ms-win-security-base-l1-2-0.dll',\n",
       " 'api-ms-win-core-handle-l1-1-0.dll',\n",
       " 'api-ms-win-eventing-provider-l1-1-0.dll',\n",
       " 'api-ms-win-core-localization-l1-2-1.dll',\n",
       " 'OLEAUT32.dll',\n",
       " 'api-ms-win-core-profile-l1-1-0.dll',\n",
       " 'api-ms-win-core-delayload-l1-1-1.dll',\n",
       " 'api-ms-win-core-heap-l1-2-0.dll',\n",
       " 'api-ms-win-core-registry-l1-1-0.dll',\n",
       " 'kernel32.dll',\n",
       " 'api-ms-win-core-synch-l1-2-0.dll',\n",
       " 'user32.dll',\n",
       " 'api-ms-win-core-rtlsupport-l1-2-0.dll',\n",
       " 'ntdll.dll',\n",
       " 'api-ms-win-core-file-l1-2-1.dll',\n",
       " 'api-ms-win-core-com-l1-1-1.dll',\n",
       " 'KERNEL32.DLL',\n",
       " 'msvcrt.dll',\n",
       " 'api-ms-win-core-string-l1-1-0.dll',\n",
       " 'api-ms-win-core-debug-l1-1-1.dll',\n",
       " 'api-ms-win-core-libraryloader-l1-2-0.dll',\n",
       " 'api-ms-win-core-heap-l2-1-0.dll',\n",
       " 'RPCRT4.dll',\n",
       " 'api-ms-win-core-errorhandling-l1-1-1.dll',\n",
       " 'DOS_HEADER.e_cblp',\n",
       " 'DOS_HEADER.e_cp',\n",
       " 'DOS_HEADER.e_minalloc',\n",
       " 'DOS_HEADER.e_ovno',\n",
       " 'DOS_HEADER.e_lfanew',\n",
       " 'FILE_HEADER.Machine',\n",
       " 'FILE_HEADER.NumberOfSections',\n",
       " 'FILE_HEADER.TimeDateStamp',\n",
       " 'FILE_HEADER.SizeOfOptionalHeader',\n",
       " 'FILE_HEADER.Characteristics',\n",
       " 'OPTIONAL_HEADER.MajorLinkerVersion',\n",
       " 'OPTIONAL_HEADER.MinorLinkerVersion',\n",
       " 'OPTIONAL_HEADER.SizeOfCode',\n",
       " 'OPTIONAL_HEADER.SizeOfInitializedData',\n",
       " 'OPTIONAL_HEADER.AddressOfEntryPoint',\n",
       " 'OPTIONAL_HEADER.BaseOfCode',\n",
       " 'OPTIONAL_HEADER.BaseOfData',\n",
       " 'OPTIONAL_HEADER.ImageBase',\n",
       " 'OPTIONAL_HEADER.MajorOperatingSystemVersion',\n",
       " 'OPTIONAL_HEADER.MajorImageVersion',\n",
       " 'OPTIONAL_HEADER.MajorSubsystemVersion',\n",
       " 'OPTIONAL_HEADER.MinorSubsystemVersion',\n",
       " 'OPTIONAL_HEADER.SizeOfImage',\n",
       " 'OPTIONAL_HEADER.SizeOfHeaders',\n",
       " 'OPTIONAL_HEADER.CheckSum',\n",
       " 'OPTIONAL_HEADER.Subsystem',\n",
       " 'OPTIONAL_HEADER.DllCharacteristics',\n",
       " 'OPTIONAL_HEADER.SizeOfStackReserve',\n",
       " 'OPTIONAL_HEADER.SizeOfStackCommit',\n",
       " '__CxxFrameHandler3',\n",
       " 'TerminateProcess',\n",
       " 'GetLastError',\n",
       " 'LoadLibraryExW',\n",
       " 'RegSetValueExW',\n",
       " 'RtlLookupFunctionEntry',\n",
       " 'UnregisterTraceGuids',\n",
       " 'RegCreateKeyExW',\n",
       " 'memset',\n",
       " 'FindNextFileA',\n",
       " 'WaitForSingleObjectEx',\n",
       " 'EventRegister',\n",
       " 'OpenSemaphoreW',\n",
       " 'CopyFileA',\n",
       " '??1type_info@@UEAA@XZ',\n",
       " 'RegQueryInfoKeyW',\n",
       " 'CoTaskMemFree',\n",
       " 'CreateSemaphoreExW',\n",
       " '??0exception@@QEAA@AEBV0@@Z',\n",
       " '_vsnwprintf',\n",
       " 'RegQueryValueExW',\n",
       " 'ReleaseSemaphore',\n",
       " 'wcschr',\n",
       " 'AcquireSRWLockShared',\n",
       " 'EncodePointer',\n",
       " 'free',\n",
       " '?what@exception@@UEBAPEBDXZ',\n",
       " 'RegDeleteValueW',\n",
       " 'CoCreateInstance',\n",
       " 'DeleteCriticalSection',\n",
       " 'GetModuleHandleExW',\n",
       " '_errno',\n",
       " '_unlock',\n",
       " 'EventWriteTransfer',\n",
       " 'EventSetInformation',\n",
       " 'CreateMutexExW',\n",
       " 'memcmp',\n",
       " 'AcquireSRWLockExclusive',\n",
       " '_wcsnicmp',\n",
       " '_onexit',\n",
       " 'GetSystemTimeAsFileTime',\n",
       " 'memmove',\n",
       " 'GetCurrentThreadId',\n",
       " 'RtlCaptureContext',\n",
       " 'GetModuleHandleW',\n",
       " 'DecodePointer',\n",
       " '_callnewh',\n",
       " 'CoInitializeEx',\n",
       " '__dllonexit',\n",
       " '??0exception@@QEAA@XZ',\n",
       " 'QueryPerformanceCounter',\n",
       " 'OutputDebugStringW',\n",
       " '_wcsicmp',\n",
       " '??0exception@@QEAA@AEBQEBD@Z',\n",
       " 'GetTickCount',\n",
       " 'WaitForSingleObject',\n",
       " 'GetTraceLoggerHandle',\n",
       " 'ResolveDelayLoadedAPI',\n",
       " 'IsDebuggerPresent',\n",
       " 'DelayLoadFailureHook',\n",
       " 'GetCurrentThread',\n",
       " 'SetUnhandledExceptionFilter',\n",
       " 'RegOpenKeyExW',\n",
       " 'ReleaseSRWLockExclusive',\n",
       " 'realloc',\n",
       " 'GetTraceEnableLevel',\n",
       " 'lstrcpyA',\n",
       " '??3@YAXPEAX@Z',\n",
       " 'GetModuleFileNameW',\n",
       " 'RtlVirtualUnwind',\n",
       " 'wcscpy_s',\n",
       " 'EventWrite',\n",
       " 'ReleaseMutex',\n",
       " 'memcpy_s',\n",
       " '?terminate@@YAXXZ',\n",
       " '_CxxThrowException',\n",
       " 'SetLastError',\n",
       " 'GetProcessHeap',\n",
       " 'TraceMessage',\n",
       " '??1exception@@UEAA@XZ',\n",
       " 'EventUnregister',\n",
       " 'CloseHandle',\n",
       " 'FindFirstFileA',\n",
       " 'malloc',\n",
       " 'SetEvent',\n",
       " 'GetCurrentProcessId',\n",
       " '??0exception@@QEAA@AEBQEBDH@Z',\n",
       " 'GetModuleHandleA',\n",
       " 'EnterCriticalSection',\n",
       " '_purecall',\n",
       " 'LoadLibraryA',\n",
       " 'ExitProcess',\n",
       " 'FormatMessageW',\n",
       " 'HeapAlloc',\n",
       " 'CreateEventW',\n",
       " 'RegGetValueW',\n",
       " 'CoTaskMemAlloc',\n",
       " 'HeapFree',\n",
       " '_amsg_exit',\n",
       " 'LeaveCriticalSection',\n",
       " '_initterm',\n",
       " 'CreateFileW',\n",
       " 'GetTraceEnableFlags',\n",
       " 'RegEnumKeyExW',\n",
       " 'Sleep',\n",
       " 'UnhandledExceptionFilter',\n",
       " 'GetCurrentProcess',\n",
       " 'GetCommandLineA',\n",
       " '_lock',\n",
       " 'GetStartupInfoA',\n",
       " 'memcpy',\n",
       " 'MessageBoxA',\n",
       " 'RtlNtStatusToDosError',\n",
       " 'DisableThreadLibraryCalls',\n",
       " '__C_specific_handler',\n",
       " 'ReleaseSRWLockShared',\n",
       " '_XcptFilter']"
      ]
     },
     "execution_count": 50,
     "metadata": {},
     "output_type": "execute_result"
    }
   ],
   "source": [
    "features_list"
   ]
  },
  {
   "cell_type": "code",
   "execution_count": 51,
   "metadata": {
    "collapsed": true
   },
   "outputs": [],
   "source": [
    "features_list=['FileName']+['Malicious']+features_list"
   ]
  },
  {
   "cell_type": "code",
   "execution_count": 52,
   "metadata": {
    "collapsed": false
   },
   "outputs": [
    {
     "data": {
      "text/plain": [
       "['FileName',\n",
       " 'Malicious',\n",
       " 'api-ms-win-core-sysinfo-l1-2-1.dll',\n",
       " 'api-ms-win-core-processthreads-l1-1-2.dll',\n",
       " 'api-ms-win-security-base-l1-2-0.dll',\n",
       " 'api-ms-win-core-handle-l1-1-0.dll',\n",
       " 'api-ms-win-eventing-provider-l1-1-0.dll',\n",
       " 'api-ms-win-core-localization-l1-2-1.dll',\n",
       " 'OLEAUT32.dll',\n",
       " 'api-ms-win-core-profile-l1-1-0.dll',\n",
       " 'api-ms-win-core-delayload-l1-1-1.dll',\n",
       " 'api-ms-win-core-heap-l1-2-0.dll',\n",
       " 'api-ms-win-core-registry-l1-1-0.dll',\n",
       " 'kernel32.dll',\n",
       " 'api-ms-win-core-synch-l1-2-0.dll',\n",
       " 'user32.dll',\n",
       " 'api-ms-win-core-rtlsupport-l1-2-0.dll',\n",
       " 'ntdll.dll',\n",
       " 'api-ms-win-core-file-l1-2-1.dll',\n",
       " 'api-ms-win-core-com-l1-1-1.dll',\n",
       " 'KERNEL32.DLL',\n",
       " 'msvcrt.dll',\n",
       " 'api-ms-win-core-string-l1-1-0.dll',\n",
       " 'api-ms-win-core-debug-l1-1-1.dll',\n",
       " 'api-ms-win-core-libraryloader-l1-2-0.dll',\n",
       " 'api-ms-win-core-heap-l2-1-0.dll',\n",
       " 'RPCRT4.dll',\n",
       " 'api-ms-win-core-errorhandling-l1-1-1.dll',\n",
       " 'DOS_HEADER.e_cblp',\n",
       " 'DOS_HEADER.e_cp',\n",
       " 'DOS_HEADER.e_minalloc',\n",
       " 'DOS_HEADER.e_ovno',\n",
       " 'DOS_HEADER.e_lfanew',\n",
       " 'FILE_HEADER.Machine',\n",
       " 'FILE_HEADER.NumberOfSections',\n",
       " 'FILE_HEADER.TimeDateStamp',\n",
       " 'FILE_HEADER.SizeOfOptionalHeader',\n",
       " 'FILE_HEADER.Characteristics',\n",
       " 'OPTIONAL_HEADER.MajorLinkerVersion',\n",
       " 'OPTIONAL_HEADER.MinorLinkerVersion',\n",
       " 'OPTIONAL_HEADER.SizeOfCode',\n",
       " 'OPTIONAL_HEADER.SizeOfInitializedData',\n",
       " 'OPTIONAL_HEADER.AddressOfEntryPoint',\n",
       " 'OPTIONAL_HEADER.BaseOfCode',\n",
       " 'OPTIONAL_HEADER.BaseOfData',\n",
       " 'OPTIONAL_HEADER.ImageBase',\n",
       " 'OPTIONAL_HEADER.MajorOperatingSystemVersion',\n",
       " 'OPTIONAL_HEADER.MajorImageVersion',\n",
       " 'OPTIONAL_HEADER.MajorSubsystemVersion',\n",
       " 'OPTIONAL_HEADER.MinorSubsystemVersion',\n",
       " 'OPTIONAL_HEADER.SizeOfImage',\n",
       " 'OPTIONAL_HEADER.SizeOfHeaders',\n",
       " 'OPTIONAL_HEADER.CheckSum',\n",
       " 'OPTIONAL_HEADER.Subsystem',\n",
       " 'OPTIONAL_HEADER.DllCharacteristics',\n",
       " 'OPTIONAL_HEADER.SizeOfStackReserve',\n",
       " 'OPTIONAL_HEADER.SizeOfStackCommit',\n",
       " '__CxxFrameHandler3',\n",
       " 'TerminateProcess',\n",
       " 'GetLastError',\n",
       " 'LoadLibraryExW',\n",
       " 'RegSetValueExW',\n",
       " 'RtlLookupFunctionEntry',\n",
       " 'UnregisterTraceGuids',\n",
       " 'RegCreateKeyExW',\n",
       " 'memset',\n",
       " 'FindNextFileA',\n",
       " 'WaitForSingleObjectEx',\n",
       " 'EventRegister',\n",
       " 'OpenSemaphoreW',\n",
       " 'CopyFileA',\n",
       " '??1type_info@@UEAA@XZ',\n",
       " 'RegQueryInfoKeyW',\n",
       " 'CoTaskMemFree',\n",
       " 'CreateSemaphoreExW',\n",
       " '??0exception@@QEAA@AEBV0@@Z',\n",
       " '_vsnwprintf',\n",
       " 'RegQueryValueExW',\n",
       " 'ReleaseSemaphore',\n",
       " 'wcschr',\n",
       " 'AcquireSRWLockShared',\n",
       " 'EncodePointer',\n",
       " 'free',\n",
       " '?what@exception@@UEBAPEBDXZ',\n",
       " 'RegDeleteValueW',\n",
       " 'CoCreateInstance',\n",
       " 'DeleteCriticalSection',\n",
       " 'GetModuleHandleExW',\n",
       " '_errno',\n",
       " '_unlock',\n",
       " 'EventWriteTransfer',\n",
       " 'EventSetInformation',\n",
       " 'CreateMutexExW',\n",
       " 'memcmp',\n",
       " 'AcquireSRWLockExclusive',\n",
       " '_wcsnicmp',\n",
       " '_onexit',\n",
       " 'GetSystemTimeAsFileTime',\n",
       " 'memmove',\n",
       " 'GetCurrentThreadId',\n",
       " 'RtlCaptureContext',\n",
       " 'GetModuleHandleW',\n",
       " 'DecodePointer',\n",
       " '_callnewh',\n",
       " 'CoInitializeEx',\n",
       " '__dllonexit',\n",
       " '??0exception@@QEAA@XZ',\n",
       " 'QueryPerformanceCounter',\n",
       " 'OutputDebugStringW',\n",
       " '_wcsicmp',\n",
       " '??0exception@@QEAA@AEBQEBD@Z',\n",
       " 'GetTickCount',\n",
       " 'WaitForSingleObject',\n",
       " 'GetTraceLoggerHandle',\n",
       " 'ResolveDelayLoadedAPI',\n",
       " 'IsDebuggerPresent',\n",
       " 'DelayLoadFailureHook',\n",
       " 'GetCurrentThread',\n",
       " 'SetUnhandledExceptionFilter',\n",
       " 'RegOpenKeyExW',\n",
       " 'ReleaseSRWLockExclusive',\n",
       " 'realloc',\n",
       " 'GetTraceEnableLevel',\n",
       " 'lstrcpyA',\n",
       " '??3@YAXPEAX@Z',\n",
       " 'GetModuleFileNameW',\n",
       " 'RtlVirtualUnwind',\n",
       " 'wcscpy_s',\n",
       " 'EventWrite',\n",
       " 'ReleaseMutex',\n",
       " 'memcpy_s',\n",
       " '?terminate@@YAXXZ',\n",
       " '_CxxThrowException',\n",
       " 'SetLastError',\n",
       " 'GetProcessHeap',\n",
       " 'TraceMessage',\n",
       " '??1exception@@UEAA@XZ',\n",
       " 'EventUnregister',\n",
       " 'CloseHandle',\n",
       " 'FindFirstFileA',\n",
       " 'malloc',\n",
       " 'SetEvent',\n",
       " 'GetCurrentProcessId',\n",
       " '??0exception@@QEAA@AEBQEBDH@Z',\n",
       " 'GetModuleHandleA',\n",
       " 'EnterCriticalSection',\n",
       " '_purecall',\n",
       " 'LoadLibraryA',\n",
       " 'ExitProcess',\n",
       " 'FormatMessageW',\n",
       " 'HeapAlloc',\n",
       " 'CreateEventW',\n",
       " 'RegGetValueW',\n",
       " 'CoTaskMemAlloc',\n",
       " 'HeapFree',\n",
       " '_amsg_exit',\n",
       " 'LeaveCriticalSection',\n",
       " '_initterm',\n",
       " 'CreateFileW',\n",
       " 'GetTraceEnableFlags',\n",
       " 'RegEnumKeyExW',\n",
       " 'Sleep',\n",
       " 'UnhandledExceptionFilter',\n",
       " 'GetCurrentProcess',\n",
       " 'GetCommandLineA',\n",
       " '_lock',\n",
       " 'GetStartupInfoA',\n",
       " 'memcpy',\n",
       " 'MessageBoxA',\n",
       " 'RtlNtStatusToDosError',\n",
       " 'DisableThreadLibraryCalls',\n",
       " '__C_specific_handler',\n",
       " 'ReleaseSRWLockShared',\n",
       " '_XcptFilter']"
      ]
     },
     "execution_count": 52,
     "metadata": {},
     "output_type": "execute_result"
    }
   ],
   "source": [
    "features_list"
   ]
  },
  {
   "cell_type": "code",
   "execution_count": 53,
   "metadata": {
    "collapsed": true
   },
   "outputs": [],
   "source": [
    "data_reduced_df=data[features_list]"
   ]
  },
  {
   "cell_type": "code",
   "execution_count": 54,
   "metadata": {
    "collapsed": false
   },
   "outputs": [
    {
     "data": {
      "text/html": [
       "<div>\n",
       "<table border=\"1\" class=\"dataframe\">\n",
       "  <thead>\n",
       "    <tr style=\"text-align: right;\">\n",
       "      <th></th>\n",
       "      <th>FileName</th>\n",
       "      <th>Malicious</th>\n",
       "      <th>api-ms-win-core-sysinfo-l1-2-1.dll</th>\n",
       "      <th>api-ms-win-core-processthreads-l1-1-2.dll</th>\n",
       "      <th>api-ms-win-security-base-l1-2-0.dll</th>\n",
       "      <th>api-ms-win-core-handle-l1-1-0.dll</th>\n",
       "      <th>api-ms-win-eventing-provider-l1-1-0.dll</th>\n",
       "      <th>api-ms-win-core-localization-l1-2-1.dll</th>\n",
       "      <th>OLEAUT32.dll</th>\n",
       "      <th>api-ms-win-core-profile-l1-1-0.dll</th>\n",
       "      <th>...</th>\n",
       "      <th>GetCommandLineA</th>\n",
       "      <th>_lock</th>\n",
       "      <th>GetStartupInfoA</th>\n",
       "      <th>memcpy</th>\n",
       "      <th>MessageBoxA</th>\n",
       "      <th>RtlNtStatusToDosError</th>\n",
       "      <th>DisableThreadLibraryCalls</th>\n",
       "      <th>__C_specific_handler</th>\n",
       "      <th>ReleaseSRWLockShared</th>\n",
       "      <th>_XcptFilter</th>\n",
       "    </tr>\n",
       "  </thead>\n",
       "  <tbody>\n",
       "    <tr>\n",
       "      <th>0</th>\n",
       "      <td>/home/naresh/Downloads/Project/Virus.Win/Virus...</td>\n",
       "      <td>1</td>\n",
       "      <td>0</td>\n",
       "      <td>0</td>\n",
       "      <td>0</td>\n",
       "      <td>0</td>\n",
       "      <td>0</td>\n",
       "      <td>0</td>\n",
       "      <td>0</td>\n",
       "      <td>0</td>\n",
       "      <td>...</td>\n",
       "      <td>0</td>\n",
       "      <td>0</td>\n",
       "      <td>0</td>\n",
       "      <td>0</td>\n",
       "      <td>0</td>\n",
       "      <td>0</td>\n",
       "      <td>0</td>\n",
       "      <td>1</td>\n",
       "      <td>0</td>\n",
       "      <td>1</td>\n",
       "    </tr>\n",
       "    <tr>\n",
       "      <th>1</th>\n",
       "      <td>/home/naresh/Downloads/Project/Virus.Win/Virus...</td>\n",
       "      <td>1</td>\n",
       "      <td>0</td>\n",
       "      <td>0</td>\n",
       "      <td>0</td>\n",
       "      <td>0</td>\n",
       "      <td>0</td>\n",
       "      <td>0</td>\n",
       "      <td>1</td>\n",
       "      <td>0</td>\n",
       "      <td>...</td>\n",
       "      <td>1</td>\n",
       "      <td>0</td>\n",
       "      <td>1</td>\n",
       "      <td>0</td>\n",
       "      <td>1</td>\n",
       "      <td>0</td>\n",
       "      <td>0</td>\n",
       "      <td>0</td>\n",
       "      <td>0</td>\n",
       "      <td>0</td>\n",
       "    </tr>\n",
       "    <tr>\n",
       "      <th>2</th>\n",
       "      <td>/home/naresh/Downloads/Project/Virus.Win/Virus...</td>\n",
       "      <td>1</td>\n",
       "      <td>0</td>\n",
       "      <td>0</td>\n",
       "      <td>0</td>\n",
       "      <td>0</td>\n",
       "      <td>0</td>\n",
       "      <td>0</td>\n",
       "      <td>0</td>\n",
       "      <td>0</td>\n",
       "      <td>...</td>\n",
       "      <td>0</td>\n",
       "      <td>0</td>\n",
       "      <td>0</td>\n",
       "      <td>0</td>\n",
       "      <td>0</td>\n",
       "      <td>0</td>\n",
       "      <td>0</td>\n",
       "      <td>0</td>\n",
       "      <td>0</td>\n",
       "      <td>0</td>\n",
       "    </tr>\n",
       "    <tr>\n",
       "      <th>3</th>\n",
       "      <td>/home/naresh/Downloads/Project/Virus.Win/Virus...</td>\n",
       "      <td>1</td>\n",
       "      <td>0</td>\n",
       "      <td>0</td>\n",
       "      <td>0</td>\n",
       "      <td>0</td>\n",
       "      <td>0</td>\n",
       "      <td>0</td>\n",
       "      <td>0</td>\n",
       "      <td>0</td>\n",
       "      <td>...</td>\n",
       "      <td>1</td>\n",
       "      <td>0</td>\n",
       "      <td>1</td>\n",
       "      <td>0</td>\n",
       "      <td>1</td>\n",
       "      <td>0</td>\n",
       "      <td>0</td>\n",
       "      <td>0</td>\n",
       "      <td>0</td>\n",
       "      <td>0</td>\n",
       "    </tr>\n",
       "    <tr>\n",
       "      <th>4</th>\n",
       "      <td>/home/naresh/Downloads/Project/Virus.Win/Virus...</td>\n",
       "      <td>1</td>\n",
       "      <td>0</td>\n",
       "      <td>0</td>\n",
       "      <td>0</td>\n",
       "      <td>0</td>\n",
       "      <td>0</td>\n",
       "      <td>0</td>\n",
       "      <td>0</td>\n",
       "      <td>0</td>\n",
       "      <td>...</td>\n",
       "      <td>0</td>\n",
       "      <td>0</td>\n",
       "      <td>0</td>\n",
       "      <td>0</td>\n",
       "      <td>1</td>\n",
       "      <td>0</td>\n",
       "      <td>0</td>\n",
       "      <td>0</td>\n",
       "      <td>0</td>\n",
       "      <td>0</td>\n",
       "    </tr>\n",
       "  </tbody>\n",
       "</table>\n",
       "<p>5 rows × 174 columns</p>\n",
       "</div>"
      ],
      "text/plain": [
       "                                            FileName  Malicious  \\\n",
       "0  /home/naresh/Downloads/Project/Virus.Win/Virus...          1   \n",
       "1  /home/naresh/Downloads/Project/Virus.Win/Virus...          1   \n",
       "2  /home/naresh/Downloads/Project/Virus.Win/Virus...          1   \n",
       "3  /home/naresh/Downloads/Project/Virus.Win/Virus...          1   \n",
       "4  /home/naresh/Downloads/Project/Virus.Win/Virus...          1   \n",
       "\n",
       "   api-ms-win-core-sysinfo-l1-2-1.dll  \\\n",
       "0                                   0   \n",
       "1                                   0   \n",
       "2                                   0   \n",
       "3                                   0   \n",
       "4                                   0   \n",
       "\n",
       "   api-ms-win-core-processthreads-l1-1-2.dll  \\\n",
       "0                                          0   \n",
       "1                                          0   \n",
       "2                                          0   \n",
       "3                                          0   \n",
       "4                                          0   \n",
       "\n",
       "   api-ms-win-security-base-l1-2-0.dll  api-ms-win-core-handle-l1-1-0.dll  \\\n",
       "0                                    0                                  0   \n",
       "1                                    0                                  0   \n",
       "2                                    0                                  0   \n",
       "3                                    0                                  0   \n",
       "4                                    0                                  0   \n",
       "\n",
       "   api-ms-win-eventing-provider-l1-1-0.dll  \\\n",
       "0                                        0   \n",
       "1                                        0   \n",
       "2                                        0   \n",
       "3                                        0   \n",
       "4                                        0   \n",
       "\n",
       "   api-ms-win-core-localization-l1-2-1.dll  OLEAUT32.dll  \\\n",
       "0                                        0             0   \n",
       "1                                        0             1   \n",
       "2                                        0             0   \n",
       "3                                        0             0   \n",
       "4                                        0             0   \n",
       "\n",
       "   api-ms-win-core-profile-l1-1-0.dll     ...       GetCommandLineA  _lock  \\\n",
       "0                                   0     ...                     0      0   \n",
       "1                                   0     ...                     1      0   \n",
       "2                                   0     ...                     0      0   \n",
       "3                                   0     ...                     1      0   \n",
       "4                                   0     ...                     0      0   \n",
       "\n",
       "   GetStartupInfoA  memcpy  MessageBoxA  RtlNtStatusToDosError  \\\n",
       "0                0       0            0                      0   \n",
       "1                1       0            1                      0   \n",
       "2                0       0            0                      0   \n",
       "3                1       0            1                      0   \n",
       "4                0       0            1                      0   \n",
       "\n",
       "   DisableThreadLibraryCalls  __C_specific_handler  ReleaseSRWLockShared  \\\n",
       "0                          0                     1                     0   \n",
       "1                          0                     0                     0   \n",
       "2                          0                     0                     0   \n",
       "3                          0                     0                     0   \n",
       "4                          0                     0                     0   \n",
       "\n",
       "   _XcptFilter  \n",
       "0            1  \n",
       "1            0  \n",
       "2            0  \n",
       "3            0  \n",
       "4            0  \n",
       "\n",
       "[5 rows x 174 columns]"
      ]
     },
     "execution_count": 54,
     "metadata": {},
     "output_type": "execute_result"
    }
   ],
   "source": [
    "data_reduced_df.head()"
   ]
  },
  {
   "cell_type": "code",
   "execution_count": 55,
   "metadata": {
    "collapsed": false
   },
   "outputs": [
    {
     "name": "stdout",
     "output_type": "stream",
     "text": [
      "<class 'pandas.core.frame.DataFrame'>\n",
      "RangeIndex: 3137 entries, 0 to 3136\n",
      "Columns: 174 entries, FileName to _XcptFilter\n",
      "dtypes: float64(1), int64(171), object(2)\n",
      "memory usage: 4.2+ MB\n"
     ]
    }
   ],
   "source": [
    "data_reduced_df.info()"
   ]
  },
  {
   "cell_type": "code",
   "execution_count": 58,
   "metadata": {
    "collapsed": true
   },
   "outputs": [],
   "source": [
    "data_reduced_df.to_csv(\"reduced_data_selectedFeatures.csv\",index=False)"
   ]
  },
  {
   "cell_type": "code",
   "execution_count": null,
   "metadata": {
    "collapsed": true
   },
   "outputs": [],
   "source": []
  }
 ],
 "metadata": {
  "anaconda-cloud": {},
  "kernelspec": {
   "display_name": "Python [conda root]",
   "language": "python",
   "name": "conda-root-py"
  },
  "language_info": {
   "codemirror_mode": {
    "name": "ipython",
    "version": 3
   },
   "file_extension": ".py",
   "mimetype": "text/x-python",
   "name": "python",
   "nbconvert_exporter": "python",
   "pygments_lexer": "ipython3",
   "version": "3.5.2"
  }
 },
 "nbformat": 4,
 "nbformat_minor": 1
}
